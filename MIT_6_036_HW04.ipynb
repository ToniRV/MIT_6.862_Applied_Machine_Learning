{
  "nbformat": 4,
  "nbformat_minor": 0,
  "metadata": {
    "colab": {
      "name": "MIT 6.036 HW04.ipynb",
      "provenance": [],
      "collapsed_sections": [],
      "include_colab_link": true
    },
    "kernelspec": {
      "name": "python3",
      "display_name": "Python 3"
    }
  },
  "cells": [
    {
      "cell_type": "markdown",
      "metadata": {
        "id": "view-in-github",
        "colab_type": "text"
      },
      "source": [
        "<a href=\"https://colab.research.google.com/github/ToniRV/MIT_6.862_Applied_Machine_Learning/blob/master/MIT_6_036_HW04.ipynb\" target=\"_parent\"><img src=\"https://colab.research.google.com/assets/colab-badge.svg\" alt=\"Open In Colab\"/></a>"
      ]
    },
    {
      "cell_type": "markdown",
      "metadata": {
        "id": "Wmv3jlgr4_Ji",
        "colab_type": "text"
      },
      "source": [
        "# MIT 6.036 Spring 2020: Homework 4\n",
        "This homework does not include provided Python code. Instead, we\n",
        "encourage you to write your own code to help you answer some of these\n",
        "problems, and/or test and debug the code components we do ask for.\n",
        "Some of the problems below are simple enough that hand calculation\n",
        "should be possible; your hand solutions can serve as test cases for\n",
        "your code.  You may also find that including utilities written in\n",
        "previous labs (like a `sd` or signed distance function) will be\n",
        "helpful, as you build up additional functions and utilities for\n",
        "calculation of margins, different loss functions, gradients, and other\n",
        "functions needed for margin maximization and gradient descent."
      ]
    },
    {
      "cell_type": "code",
      "metadata": {
        "id": "N622h8-D5i-M",
        "colab_type": "code",
        "colab": {
          "base_uri": "https://localhost:8080/",
          "height": 51
        },
        "outputId": "b573da66-98de-484e-a0e3-a7fa6440c58e"
      },
      "source": [
        "!rm -rf code_and_data_for_hw4*\n",
        "!rm -rf mnist\n",
        "!wget --quiet https://introml.odl.mit.edu/cat-soop/_static/6.036/homework/hw04/code_and_data_for_hw04.zip\n",
        "!unzip code_and_data_for_hw04.zip\n",
        "!mv code_and_data_for_hw04/* .\n",
        "  \n",
        "from code_for_hw04 import *\n",
        "import numpy as np"
      ],
      "execution_count": 32,
      "outputs": [
        {
          "output_type": "stream",
          "text": [
            "Archive:  code_and_data_for_hw04.zip\n",
            "  inflating: code_and_data_for_hw04/code_for_hw04.py  \n"
          ],
          "name": "stdout"
        }
      ]
    },
    {
      "cell_type": "markdown",
      "metadata": {
        "id": "jUS51a8m5rEI",
        "colab_type": "text"
      },
      "source": [
        "## 3) Implementing gradient descent\n",
        "In this section we will implement generic versions of gradient descent and apply these to the logistic regression objective.\n",
        "\n",
        "<b>Note: </b> If you need a refresher on gradient descent,\n",
        "you may want to reference\n",
        "<a href=\"https://lms.mitx.mit.edu/courses/course-v1:MITx+6.036+2019_Fall/courseware/Week4/gradient_descent/5\">this week's notes</a>.\n",
        "\n",
        "### 3.1) Implementing Gradient Descent\n",
        "We want to find the $x$ that minimizes the value of the *objective\n",
        "function* $f(x)$, for an arbitrary scalar function $f$.  The function\n",
        "$f$ will be implemented as a Python function of one argument, that\n",
        "will be a numpy column vector.  For efficiency, we will work with\n",
        "Python functions that return not just the value of $f$ at $f(x)$ but\n",
        "also return the gradient vector at $x$, that is, $\\nabla_x f(x)$.\n",
        "\n",
        "We will now implement a generic gradient descent function, `gd`, that\n",
        "has the following input arguments:\n",
        "\n",
        "* `f`: a function whose input is an `x`, a column vector, and\n",
        "  returns a scalar.\n",
        "* `df`: a function whose input is an `x`, a column vector, and\n",
        "  returns a column vector representing the gradient of `f` at `x`.\n",
        "* `x0`: an initial value of $x$, `x0`, which is a column vector.\n",
        "* `step_size_fn`: a function that is given the iteration index (an\n",
        "  integer) and returns a step size.\n",
        "* `num_steps`: the number of iterations to perform\n",
        "\n",
        "Our function `gd` returns a tuple:\n",
        "\n",
        "* x: the value at the final step\n",
        "* fx: the value of f(x) at the final step\n",
        "\n",
        "**Hint:** This is a short function!"
      ]
    },
    {
      "cell_type": "markdown",
      "metadata": {
        "id": "s03NFuxG6kvt",
        "colab_type": "text"
      },
      "source": [
        "The main function to implement is `gd`, defined below."
      ]
    },
    {
      "cell_type": "code",
      "metadata": {
        "id": "mNsLE3bg6jt9",
        "colab_type": "code",
        "colab": {}
      },
      "source": [
        "def gd(f, df, x0, step_size_fn, num_steps):\n",
        "    x = x0\n",
        "    for i in range(num_steps):\n",
        "        x = x - step_size_fn(i) * df(x)\n",
        "    return x, f(x)"
      ],
      "execution_count": 0,
      "outputs": []
    },
    {
      "cell_type": "markdown",
      "metadata": {
        "id": "jXu60n-H5_Hz",
        "colab_type": "text"
      },
      "source": [
        "To evaluate results, we also use a simple `package_ans` function,\n",
        "which checks the final `x` and `fx` values."
      ]
    },
    {
      "cell_type": "markdown",
      "metadata": {
        "id": "aN_XbacQ6Rue",
        "colab_type": "text"
      },
      "source": [
        "The test cases are provided below, but you should feel free (and are encouraged!) to write more of your own."
      ]
    },
    {
      "cell_type": "code",
      "metadata": {
        "id": "GJcClaqN4nE6",
        "colab_type": "code",
        "colab": {
          "base_uri": "https://localhost:8080/",
          "height": 85
        },
        "outputId": "f4ec29e4-070b-48cf-cfe3-4121a4a8e666"
      },
      "source": [
        "test_gd(gd)"
      ],
      "execution_count": 34,
      "outputs": [
        {
          "output_type": "stream",
          "text": [
            "Test 1:\n",
            "Passed!\n",
            "Test 2:\n",
            "Passed!\n"
          ],
          "name": "stdout"
        }
      ]
    },
    {
      "cell_type": "markdown",
      "metadata": {
        "id": "pbuSt5hY645k",
        "colab_type": "text"
      },
      "source": [
        "### 3.2) Numerical Gradient\n",
        "Getting the analytic gradient correct for complicated functions is\n",
        "tricky.  A very handy method of verifying the analytic gradient or\n",
        "even substituting for it is to estimate the gradient at a point by\n",
        "means of *finite differences*.\n",
        "\n",
        "Assume that we are given a function $f(x)$ that takes a column vector\n",
        "as its argument and returns a scalar value.  In gradient descent, we\n",
        "will want to estimate the gradient of $f$ at a particular $x_0.$\n",
        "\n",
        "The $i^{th}$ component of $\\nabla_x f(x_0)$ can be estimated as\n",
        "$$\\frac{f(x_0+\\delta^{i}) - f(x_0-\\delta^{i})}{2\\delta}$$\n",
        "where $\\delta^{i}$ is a column vector whose $i^{th}$ coordinate is\n",
        "$\\delta$, a small constant such as 0.001, and whose other components\n",
        "are zero.\n",
        "Note that adding or subtracting $\\delta^{i}$ is the same as\n",
        "incrementing or decrementing the $i^{th}$ component of $x_0$ by\n",
        "$\\delta$, leaving the other components of $x_0$ unchanged.  Using\n",
        "these results, we can estimate the $i^{th}$ component of the gradient.\n",
        "\n",
        "\n",
        "**For example**, take $x^(0) = (1,2,3)^T$. The gradient $\\nabla_x f(x)$ is a vector of the derivatives of $f(x)$ with respect to each component of $x$, or $\\nabla_x f(x) = (\\frac{df(x)}{dx_1},\\frac{df(x)}{dx_2},\\frac{df(x)}{dx_3})^T$.\n",
        "\n",
        "We can approximate the first component of $\\nabla_x f(x)$ as\n",
        "$$\\frac{f((1,2,3)^T+(0.01,0,0)^T) - f((1,2,3)^T-(0.01,0,0)^T)}{2\\cdot 0.01}.$$\n",
        "\n",
        "(We add the transpose so that these are column vectors.)\n",
        "**This process should be done for each dimension independently,\n",
        "and together the results of each computation are compiled to give the\n",
        "estimated gradient, which is $d$ dimensional.**\n",
        "\n",
        "Implement this as a function `num_grad` that takes as arguments the\n",
        "objective function `f` and a value of `delta`, and returns a new\n",
        "**function** that takes an `x` (a column vector of parameters) and\n",
        "returns a gradient column vector.\n",
        "\n",
        "**Note:** Watch  out for aliasing. If you do temp_x = x where x is a vector (numpy array), then temp_x is just another name for the same vector as x and changing an entry in one will change an entry in the other. You should either use x.copy() or remember to change entries back after modification."
      ]
    },
    {
      "cell_type": "code",
      "metadata": {
        "id": "WPVwGZ-l6XvW",
        "colab_type": "code",
        "colab": {}
      },
      "source": [
        "def num_grad(f, delta=0.001):\n",
        "    def df(x):\n",
        "        d = np.zeros(x.shape)\n",
        "        grad = np.zeros(x.shape)\n",
        "        for i in range(x.shape[0]):\n",
        "            d[i] = delta\n",
        "            grad[i] = (f(x + d) - f(x - d)) / (2 * delta)\n",
        "            d[i] = 0.0\n",
        "        return grad\n",
        "        \n",
        "    return df"
      ],
      "execution_count": 0,
      "outputs": []
    },
    {
      "cell_type": "markdown",
      "metadata": {
        "id": "kElTR0bL7cbG",
        "colab_type": "text"
      },
      "source": [
        "The test cases are shown below; these use the functions defined in the previous exercise.\n"
      ]
    },
    {
      "cell_type": "code",
      "metadata": {
        "id": "iiWOdSl_6yAE",
        "colab_type": "code",
        "colab": {
          "base_uri": "https://localhost:8080/",
          "height": 153
        },
        "outputId": "3b360809-0fc7-4cd6-e050-47986458bbb7"
      },
      "source": [
        "test_num_grad(num_grad)"
      ],
      "execution_count": 36,
      "outputs": [
        {
          "output_type": "stream",
          "text": [
            "Test 1\n",
            "Passed\n",
            "Test 2\n",
            "Passed\n",
            "Test 3\n",
            "Passed\n",
            "Test 4\n",
            "Passed\n"
          ],
          "name": "stdout"
        }
      ]
    },
    {
      "cell_type": "markdown",
      "metadata": {
        "id": "WASaSsYu75sG",
        "colab_type": "text"
      },
      "source": [
        "A faster (one function evaluation per entry), though sometimes less\n",
        "accurate, estimate is to use:\n",
        "$$\\frac{f(x_0+\\delta^{i}) - f(x_0)}{\\delta}$$\n",
        "for the $i^{th}$ component of $\\nabla_x f(x_0).$"
      ]
    },
    {
      "cell_type": "markdown",
      "metadata": {
        "id": "E31sdqyG78jD",
        "colab_type": "text"
      },
      "source": [
        "### 3.3) Using the Numerical Gradient\n",
        "Recall that our generic gradient descent function takes both a function\n",
        "`f` that returns the value of our function at a given point, and `df`,\n",
        "a function that returns a gradient at a given point.  Write a function\n",
        "`minimize` that takes only a function `f` and uses this function and\n",
        "numerical gradient descent to return the local minimum.  We have\n",
        "provided you with our implementations of `num_grad` and `gd`, so you\n",
        "should not redefine them in the code box below.\n",
        "You may use the default of `delta=0.001` for `num_grad`.\n",
        "\n",
        "**Hint:** Your definition of `minimize` should call `num_grad` exactly\n",
        "once, to return a function that is called many times.\n",
        "You should return the same outputs as `gd`."
      ]
    },
    {
      "cell_type": "code",
      "metadata": {
        "id": "CStwqDem76Bx",
        "colab_type": "code",
        "colab": {}
      },
      "source": [
        "def minimize(f, x0, step_size_fn, num_steps):\n",
        "    \"\"\"\n",
        "    Parameters:\n",
        "      See definitions in part 1\n",
        "    Returns:\n",
        "      same output as gd\n",
        "    \"\"\"\n",
        "    return gd(f, num_grad(f, delta=0.001), x0, step_size_fn, num_steps)"
      ],
      "execution_count": 0,
      "outputs": []
    },
    {
      "cell_type": "markdown",
      "metadata": {
        "id": "4gl0FTby8EQq",
        "colab_type": "text"
      },
      "source": [
        "The test cases are below."
      ]
    },
    {
      "cell_type": "code",
      "metadata": {
        "id": "UxBLWJFm8DnV",
        "colab_type": "code",
        "colab": {
          "base_uri": "https://localhost:8080/",
          "height": 85
        },
        "outputId": "aab26f3d-7136-4c51-b9a2-8bc9eddef17e"
      },
      "source": [
        "test_minimize(minimize)"
      ],
      "execution_count": 38,
      "outputs": [
        {
          "output_type": "stream",
          "text": [
            "Test 1\n",
            "Passed\n",
            "Test 2\n",
            "Passed\n"
          ],
          "name": "stdout"
        }
      ]
    },
    {
      "cell_type": "markdown",
      "metadata": {
        "id": "BH-1e98V8LtM",
        "colab_type": "text"
      },
      "source": [
        "## 4) Applying gradient descent to Linear Logistic Classification objective\n",
        "\n",
        "**Note:** In this section,\n",
        "you will code many individual functions, each of which depends on previous ones.\n",
        "We **strongly recommend** that you test each of the components on your own to debug.\n",
        "\n",
        "### 4.1) Calculating the Linear Logistic Classification (LLC) objective\n",
        "\n",
        "First, implement the sigmoid function and implement NLL loss over the data points and separator.\n",
        "Using the latter function, implement the LLC objective.\n",
        "Note that these functions should work for matrix/vector arguments,\n",
        "so that we can compute the objective for a whole dataset with one call.\n",
        "\n",
        "Note that `X` <b>(Upper case X is the dataset here)</b>  is $d \\times n$, `y` is $1 \\times n$, `th` is $d \\times 1$, `th0` is $1 \\times 1$, `lam` is a scalar.\n"
      ]
    },
    {
      "cell_type": "code",
      "metadata": {
        "id": "F_6E78BF8e2W",
        "colab_type": "code",
        "colab": {}
      },
      "source": [
        "# x is a column vector\n",
        "# returns a vector of the same shape as x\n",
        "def sigmoid(x):\n",
        "    return 1 / (1 + np.exp(-x))\n",
        "\n",
        "# X is dxn, y is 1xn, th is dx1, th0 is 1x1\n",
        "# returns (1,n) the nll loss for each data point given th and th0 \n",
        "def nll_loss(X, y, th, th0):\n",
        "    g = sigmoid(np.dot(th.T, X) + th0)\n",
        "    return -(y * np.log(g) + (1-y) * np.log(1-g))\n",
        "\n",
        "# X is dxn, y is 1xn, th is dx1, th0 is 1x1, lam is a scalar\n",
        "# returns (float) the llc objective over the dataset\n",
        "def llc_obj(X, y, th, th0, lam):\n",
        "    return 1/y.shape[1] * np.sum(nll_loss(X, y, th, th0)) + lam * np.sum(th**2)"
      ],
      "execution_count": 0,
      "outputs": []
    },
    {
      "cell_type": "code",
      "metadata": {
        "id": "GmrRKG_ss21o",
        "colab_type": "code",
        "colab": {
          "base_uri": "https://localhost:8080/",
          "height": 51
        },
        "outputId": "4da8064c-d1f8-4614-a1c0-1147faaef7cd"
      },
      "source": [
        "print(sigmoid(np.array([[1, 2], [2, 2]])))"
      ],
      "execution_count": 93,
      "outputs": [
        {
          "output_type": "stream",
          "text": [
            "[[0.73105858 0.88079708]\n",
            " [0.88079708 0.88079708]]\n"
          ],
          "name": "stdout"
        }
      ]
    },
    {
      "cell_type": "code",
      "metadata": {
        "id": "gaBQNvT5BVs4",
        "colab_type": "code",
        "colab": {
          "base_uri": "https://localhost:8080/",
          "height": 51
        },
        "outputId": "3459c9fe-70e8-49e3-c237-7e464c588b83"
      },
      "source": [
        "def super_simple_separable():\n",
        "    X = np.array([[2, 3, 9, 12],\n",
        "                  [5, 2, 6, 5]])\n",
        "    y = np.array([[1, 0, 1, 0]])\n",
        "    return X, y\n",
        "\n",
        "sep_e_separator = np.array([[-0.40338351], [1.1849563]]), np.array([[-2.26910091]])\n",
        "\n",
        "# Test case 1\n",
        "x_1, y_1 = super_simple_separable()\n",
        "th1, th1_0 = sep_e_separator\n",
        "ans = llc_obj(x_1, y_1, th1, th1_0, .1)\n",
        "\n",
        "print(ans)\n",
        "\n",
        "# Test case 2\n",
        "ans = llc_obj(x_1, y_1, th1, th1_0, 0.0)\n",
        "\n",
        "print(ans)\n",
        "\n",
        "# Test case beta\n",
        "sep_e_separator = np.array([[-0.40338351], [1.1849563]]), np.array([[-2.26910091]])\n",
        "x_1, y_1 = super_simple_separable()\n",
        "th1, th1_0 = sep_e_separator"
      ],
      "execution_count": 94,
      "outputs": [
        {
          "output_type": "stream",
          "text": [
            "0.3739416910005669\n",
            "0.21725772209560584\n"
          ],
          "name": "stdout"
        }
      ]
    },
    {
      "cell_type": "code",
      "metadata": {
        "id": "PQ_1zFf_BNwV",
        "colab_type": "code",
        "colab": {
          "base_uri": "https://localhost:8080/",
          "height": 34
        },
        "outputId": "025a8640-5c86-47e2-f33b-3e794f8752f4"
      },
      "source": [
        "print(nll_loss(x_1, y_1, th1, th1_0).tolist())"
      ],
      "execution_count": 95,
      "outputs": [
        {
          "output_type": "stream",
          "text": [
            "[[0.0562926158181702, 0.2850112020940751, 0.26093403339997306, 0.266793037070205]]\n"
          ],
          "name": "stdout"
        }
      ]
    },
    {
      "cell_type": "code",
      "metadata": {
        "id": "POFvK7zW8iYK",
        "colab_type": "code",
        "colab": {
          "base_uri": "https://localhost:8080/",
          "height": 68
        },
        "outputId": "0d9601f1-fcea-48ad-dfa1-a434b338d21e"
      },
      "source": [
        "test_llc_obj(sigmoid,nll_loss,llc_obj)"
      ],
      "execution_count": 96,
      "outputs": [
        {
          "output_type": "stream",
          "text": [
            "Test 1 passed\n",
            "Test 2 passed\n",
            "Test 3 passed\n"
          ],
          "name": "stdout"
        }
      ]
    },
    {
      "cell_type": "markdown",
      "metadata": {
        "id": "ZjBB0R4u8tF1",
        "colab_type": "text"
      },
      "source": [
        "### 4.2) Calculating the Linear Logistic Classification gradient\n",
        "\n",
        "Define a function `llc_obj_grad` that returns the gradient of the logistic regression\n",
        "objective function with respect to $\\theta$ and $\\theta_0$ in a single\n",
        "column vector.  The last component of the gradient vector should be\n",
        "the partial derivative with respect to $\\theta_0$.  Look at\n",
        "`np.vstack` as a simple way of stacking two matrices/vectors\n",
        "vertically.  We have broken it down into pieces that mimic steps in\n",
        "the chain rule; this leads to code that is a bit inefficient but\n",
        "easier to write and debug.  We can worry about efficiency later."
      ]
    },
    {
      "cell_type": "code",
      "metadata": {
        "id": "lAtDiGVK8vnt",
        "colab_type": "code",
        "colab": {}
      },
      "source": [
        "# returns (1,1) the gradient of sigmoid with respect to x\n",
        "def d_sigmoid(x):\n",
        "    sx = sigmoid(x)\n",
        "    return sx*(1-sx)\n",
        "\n",
        "# returns (d,n) the gradient of nll_loss(X, y, th, th0) with respect to th for each data point\n",
        "def d_nll_loss_th(X, y, th, th0):\n",
        "    g = sigmoid(np.dot(th.T, X) + th0)\n",
        "    return (g - y) * X\n",
        "\n",
        "# returns (1,n) the gradient of nll_loss(X, y, th, th0) with respect to th0\n",
        "def d_nll_loss_th0(X, y, th, th0):\n",
        "    g = sigmoid(np.dot(th.T, X) + th0)\n",
        "    return (g - y)\n",
        "\n",
        "# returns (d,1) the gradient of llc_obj(X, y, th, th0) with respect to th\n",
        "def d_llc_obj_th(X, y, th, th0, lam):\n",
        "    print(np.sum(d_nll_loss_th(X, y, th, th0), axis=1).reshape(2,1))\n",
        "    return 1/y.shape[1] * np.sum(d_nll_loss_th(X, y, th, th0), axis=1).reshape(2,1) + 2 * lam * th\n",
        "\n",
        "# returns (1,1) the gradient of llc_obj(X, y, th, th0) with respect to th0\n",
        "def d_llc_obj_th0(X, y, th, th0, lam):\n",
        "    return 1/y.shape[1] * np.array([[np.sum(d_nll_loss_th0(X, y, th, th0))]])\n",
        "\n",
        "# returns (d+1, 1) the full gradient as a single vector (which includes both th, th0)\n",
        "def llc_obj_grad(X, y, th, th0, lam):\n",
        "    return np.vstack((d_llc_obj_th(X, y, th, th0, lam), d_llc_obj_th0(X, y, th, th0, lam)))"
      ],
      "execution_count": 0,
      "outputs": []
    },
    {
      "cell_type": "code",
      "metadata": {
        "id": "pknEwBMtN9uc",
        "colab_type": "code",
        "colab": {
          "base_uri": "https://localhost:8080/",
          "height": 255
        },
        "outputId": "79d64311-25cc-42a1-c14e-f534633bd056"
      },
      "source": [
        "# Test d_sigmoid\n",
        "assert(d_sigmoid(0) == 0.25)\n",
        "assert(d_sigmoid(100) <= 0.01)\n",
        "assert(d_sigmoid(-100) <= 0.01)\n",
        "ans = d_sigmoid(np.array([[ 71, -23.]])).tolist()\n",
        "expected = [[0.0, 1.0261879629595766e-10]]\n",
        "if isclose(ans,expected):\n",
        "    print(\"Test 1 passed\")\n",
        "else:\n",
        "    print(\"Test 1 for d_sigmoid failed\")\n",
        "\n",
        "\n",
        "# Test case d_nll_loss_th\n",
        "sep_e_separator = np.array([[-0.40338351], [1.1849563]]), np.array([[-2.26910091]])\n",
        "x_1, y_1 = super_simple_separable()\n",
        "th1, th1_0 = sep_e_separator\n",
        "#print(d_nll_loss_th(x_1, y_1, th1, th1_0))\n",
        "\n",
        "X2, y2 = super_simple_separable()\n",
        "th2, th20=np.array([[ -3.,  15.]]).T, np.array([[ 2.]])\n",
        "\n",
        "ans = d_nll_loss_th(X2, y2, th2, th20).tolist()\n",
        "#print(ans)\n",
        "expected = [[0.0, 2.9999999996921436, 0.0, 12.0], [0.0, 1.9999999997947624, 0.0, 5.0]]\n",
        "if isclose(ans,expected):\n",
        "    print(\"Test 2 passed\")\n",
        "else:\n",
        "    print(\"Test 2 for d_nll_loss_th failed\")\n",
        "\n",
        "ans = d_nll_loss_th0(X2, y2, th2, th20).tolist()\n",
        "#print(ans)\n",
        "expected = [[0.0, 0.9999999998973812, 0.0, 1.0]]\n",
        "if isclose(ans,expected):\n",
        "    print(\"Test 3 passed\")\n",
        "else:\n",
        "    print(\"Test 3 for d_nll_loss_th0 failed\")\n",
        "\n",
        "ans = d_nll_loss_th(X2, y2, th2, th20).tolist()\n",
        "#print(ans)\n",
        "expected = [[0.0, 2.9999999996921436, 0.0, 12.0], [0.0, 1.9999999997947624, 0.0, 5.0]]\n",
        "if isclose(ans,expected):\n",
        "    print(\"Test 2 passed\")\n",
        "else:\n",
        "    print(\"Test 2 for d_nll_loss_th failed\")\n",
        "\n",
        "ans = d_nll_loss_th0(X2, y2, th2, th20).tolist()\n",
        "#print(ans)\n",
        "expected = [[0.0, 0.9999999998973812, 0.0, 1.0]]\n",
        "if isclose(ans,expected):\n",
        "    print(\"Test 3 passed\")\n",
        "else:\n",
        "    print(\"Test 3 for d_nll_loss_th0 failed\")\n",
        "\n",
        "\n",
        "ans = d_llc_obj_th(X2, y2, th2, th20, 0.01).tolist()\n",
        "print(ans)\n",
        "expected = [[3.6899999999230357], [2.0499999999486906]]\n",
        "if isclose(ans,expected):\n",
        "    print(\"Test 4 passed\")\n",
        "else:\n",
        "    print(\"Test 4 for d_llc_obj_th failed\")\n",
        "\n",
        "ans = d_nll_loss_th0(X2, y2, th2, th20).tolist()\n",
        "#print(ans)\n",
        "expected = [[0.0, 0.9999999998973812, 0.0, 1.0]]\n",
        "if isclose(ans,expected):\n",
        "    print(\"Test 5 passed\")\n",
        "else:\n",
        "    print(\"Test 5 for d_nll_loss_th0 failed\")\n",
        "\n",
        "ans = d_llc_obj_th0(X2, y2, th2, th20, 0.01).tolist()\n",
        "#print(ans)\n",
        "expected = [[0.4999999999743453]]\n",
        "if isclose(ans,expected):\n",
        "    print(\"Test 6 passed\")\n",
        "else:\n",
        "    print(\"Test 6 for d_llc_obj_th0 failed\")\n",
        "\n",
        "ans = llc_obj_grad(X2, y2, th2, th20, 0.01).tolist()\n",
        "#print(ans)\n",
        "expected = [[3.6899999999230357], [2.0499999999486906], [0.4999999999743453]]\n",
        "if isclose(ans,expected):\n",
        "    print(\"Test 7 passed\")\n",
        "else:\n",
        "    print(\"Test 7 for llc_obj_grad failed\")\n"
      ],
      "execution_count": 199,
      "outputs": [
        {
          "output_type": "stream",
          "text": [
            "Test 1 passed\n",
            "Test 2 passed\n",
            "Test 3 passed\n",
            "Test 2 passed\n",
            "Test 3 passed\n",
            "[[15.]\n",
            " [ 7.]]\n",
            "[[3.6899999999230357], [2.0499999999486906]]\n",
            "Test 4 passed\n",
            "Test 5 passed\n",
            "Test 6 passed\n",
            "[[15.]\n",
            " [ 7.]]\n",
            "Test 7 passed\n"
          ],
          "name": "stdout"
        }
      ]
    },
    {
      "cell_type": "markdown",
      "metadata": {
        "id": "LDP6H_2P80vm",
        "colab_type": "text"
      },
      "source": [
        "Some test cases that may be of use are provided below."
      ]
    },
    {
      "cell_type": "code",
      "metadata": {
        "id": "xNuF6-c38yji",
        "colab_type": "code",
        "colab": {
          "base_uri": "https://localhost:8080/",
          "height": 204
        },
        "outputId": "e99ccada-3dad-44cf-82e1-c1932f883a75"
      },
      "source": [
        "test_llc_grad(d_sigmoid,d_nll_loss_th,d_nll_loss_th0,d_llc_obj_th,d_llc_obj_th0,llc_obj_grad)"
      ],
      "execution_count": 200,
      "outputs": [
        {
          "output_type": "stream",
          "text": [
            "Test 1 passed\n",
            "Test 2 passed\n",
            "Test 3 passed\n",
            "[[15.]\n",
            " [ 7.]]\n",
            "Test 4 passed\n",
            "Test 5 passed\n",
            "Test 6 passed\n",
            "[[15.]\n",
            " [ 7.]]\n",
            "Test 7 passed\n"
          ],
          "name": "stdout"
        }
      ]
    },
    {
      "cell_type": "markdown",
      "metadata": {
        "id": "3vf6OFEU89pC",
        "colab_type": "text"
      },
      "source": [
        "### 4.3) Linear Logistic Classification minimize\n",
        "\n",
        "Putting it all together, use the functions you built earlier to write\n",
        "a gradient descent minimizer for the LLC objective.  You do not need\n",
        "to paste in your previous definitions; you can just call the ones\n",
        "you've defined above.  You will need to call `gd`; your function `llc_min` should return\n",
        "the values that `gd` does.\n",
        "\n",
        "* Initialize all the separator parameters to zero,\n",
        "* use the step size function provided below, and\n",
        "* specify 10 iterations."
      ]
    },
    {
      "cell_type": "code",
      "metadata": {
        "id": "dIqWIYnq8_Nb",
        "colab_type": "code",
        "colab": {}
      },
      "source": [
        "def llc_min(data, labels, lam):\n",
        "    \"\"\"\n",
        "    Parameters:\n",
        "        data: dxn\n",
        "        labels: 1xn\n",
        "        lam: scalar\n",
        "    Returns:\n",
        "        same output as gd\n",
        "    \"\"\"\n",
        "    def llc_min_step_size_fn(i):\n",
        "       return 2/(i+1)**0.5\n",
        "    def f(x):\n",
        "      th = x[:-1]\n",
        "      th0 = x[-1]\n",
        "      X = data\n",
        "      y = labels\n",
        "      return llc_obj(X, y, th, th0, lam)\n",
        "    def df(x):\n",
        "      th = x[:-1]\n",
        "      th0 = x[-1]\n",
        "      X = data\n",
        "      y = labels\n",
        "      return llc_obj_grad(X, y, th, th0, lam)\n",
        "    th = np.zeros((data.shape[0], 1))\n",
        "    th_0 = np.array([[0.0]])\n",
        "    x0 = np.vstack((th, th_0))\n",
        "    assert(x0.shape == (len(th) + 1, 1))\n",
        "    return gd(f, df, x0, llc_min_step_size_fn, num_steps=10)"
      ],
      "execution_count": 0,
      "outputs": []
    },
    {
      "cell_type": "markdown",
      "metadata": {
        "id": "JH4xd7C-9BIm",
        "colab_type": "text"
      },
      "source": [
        "Test cases are shown below, where an additional separable test\n",
        "data set has been specified."
      ]
    },
    {
      "cell_type": "code",
      "metadata": {
        "id": "HgOC_i879Acd",
        "colab_type": "code",
        "colab": {
          "base_uri": "https://localhost:8080/",
          "height": 1000
        },
        "outputId": "9633fc2e-87eb-4e50-8d48-66ab3d5b1622"
      },
      "source": [
        "test_llc_min(llc_min)"
      ],
      "execution_count": 233,
      "outputs": [
        {
          "output_type": "stream",
          "text": [
            "(2, 1)\n",
            "(3, 1)\n",
            "(2, 1)\n",
            "(1,)\n",
            "[[ 2.]\n",
            " [-2.]]\n",
            "(2, 1)\n",
            "(1,)\n",
            "[[-7.85026201]\n",
            " [-5.41013603]]\n",
            "(2, 1)\n",
            "(1,)\n",
            "[[14.99996674]\n",
            " [ 6.99997779]]\n",
            "(2, 1)\n",
            "(1,)\n",
            "[[-10.44545813]\n",
            " [ -9.62477063]]\n",
            "(2, 1)\n",
            "(1,)\n",
            "[[14.99690995]\n",
            " [ 6.99793986]]\n",
            "(2, 1)\n",
            "(1,)\n",
            "[[-9.29749495]\n",
            " [-6.75010141]]\n",
            "(2, 1)\n",
            "(1,)\n",
            "[[5.10656093]\n",
            " [2.77646576]]\n",
            "(2, 1)\n",
            "(1,)\n",
            "[[-8.68720128]\n",
            " [-5.79283976]]\n",
            "(2, 1)\n",
            "(1,)\n",
            "[[14.96570512]\n",
            " [ 6.97817016]]\n",
            "(2, 1)\n",
            "(1,)\n",
            "[[-9.00048232]\n",
            " [-6.02248214]]\n",
            "(2, 1)\n",
            "(1,)\n",
            "Test 1 passed\n",
            "(2, 1)\n",
            "(3, 1)\n",
            "(2, 1)\n",
            "(1,)\n",
            "[[-1.5]\n",
            " [ 0.5]]\n",
            "(2, 1)\n",
            "(1,)\n",
            "[[-0.1678709 ]\n",
            " [-0.92289946]]\n",
            "(2, 1)\n",
            "(1,)\n",
            "[[-0.39210174]\n",
            " [-0.21343158]]\n",
            "(2, 1)\n",
            "(1,)\n",
            "[[-0.37048032]\n",
            " [-0.19137596]]\n",
            "(2, 1)\n",
            "(1,)\n",
            "[[-0.35259927]\n",
            " [-0.17922816]]\n",
            "(2, 1)\n",
            "(1,)\n",
            "[[-0.33824165]\n",
            " [-0.16984708]]\n",
            "(2, 1)\n",
            "(1,)\n",
            "[[-0.32626458]\n",
            " [-0.16208368]]\n",
            "(2, 1)\n",
            "(1,)\n",
            "[[-0.31598171]\n",
            " [-0.15544939]]\n",
            "(2, 1)\n",
            "(1,)\n",
            "[[-0.30696873]\n",
            " [-0.14966325]]\n",
            "(2, 1)\n",
            "(1,)\n",
            "[[-0.2989465 ]\n",
            " [-0.14454178]]\n",
            "(2, 1)\n",
            "(1,)\n",
            "Test 2 passed\n"
          ],
          "name": "stdout"
        }
      ]
    },
    {
      "cell_type": "code",
      "metadata": {
        "id": "2H3RrlijtUir",
        "colab_type": "code",
        "colab": {}
      },
      "source": [
        ""
      ],
      "execution_count": 0,
      "outputs": []
    }
  ]
}