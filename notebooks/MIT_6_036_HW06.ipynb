{
  "nbformat": 4,
  "nbformat_minor": 0,
  "metadata": {
    "colab": {
      "name": "MIT 6.036 HW06.ipynb",
      "provenance": [],
      "collapsed_sections": [],
      "include_colab_link": true
    },
    "kernelspec": {
      "name": "python3",
      "display_name": "Python 3"
    }
  },
  "cells": [
    {
      "cell_type": "markdown",
      "metadata": {
        "id": "view-in-github",
        "colab_type": "text"
      },
      "source": [
        "<a href=\"https://colab.research.google.com/github/ToniRV/MIT_6.862_Applied_Machine_Learning/blob/master/MIT_6_036_HW06.ipynb\" target=\"_parent\"><img src=\"https://colab.research.google.com/assets/colab-badge.svg\" alt=\"Open In Colab\"/></a>"
      ]
    },
    {
      "cell_type": "markdown",
      "metadata": {
        "id": "lH5VCTqoeKAr",
        "colab_type": "text"
      },
      "source": [
        "# MIT 6.036 Spring 2020: Homework 6\n",
        "\n",
        "This homework does not include provided Python code. Instead, we encourage you to write your own code to help you answer some of these problems, and/or test and debug the code components we do ask for. All of the problems should be simple enough that hand calculation should be possible, but it may be convenient to write some short programs to explore the neural networks, particularly for problem 2."
      ]
    },
    {
      "cell_type": "code",
      "metadata": {
        "id": "Z9_de7CGeMAN",
        "colab_type": "code",
        "colab": {}
      },
      "source": [
        "import numpy as np"
      ],
      "execution_count": 0,
      "outputs": []
    },
    {
      "cell_type": "markdown",
      "metadata": {
        "id": "yAfU13u6Mjoh",
        "colab_type": "text"
      },
      "source": [
        "# **Problem 2**"
      ]
    },
    {
      "cell_type": "markdown",
      "metadata": {
        "id": "hdfhir-jCOpH",
        "colab_type": "text"
      },
      "source": [
        "You may find it helpful to implement a softmax function to use for solving the problems."
      ]
    },
    {
      "cell_type": "code",
      "metadata": {
        "id": "dpa15uD0CN31",
        "colab_type": "code",
        "colab": {}
      },
      "source": [
        "# Implement Softmax\n",
        "def SM(z):\n",
        "    '''\n",
        "    z is a column vector\n",
        "    '''\n",
        "    total = np.sum(np.exp(z))\n",
        "    return np.exp(z) / total"
      ],
      "execution_count": 0,
      "outputs": []
    },
    {
      "cell_type": "code",
      "metadata": {
        "id": "xuPmNVs0zeIH",
        "colab_type": "code",
        "colab": {
          "base_uri": "https://localhost:8080/",
          "height": 72
        },
        "outputId": "5c0233fe-fa20-42de-9609-34bda392878c"
      },
      "source": [
        "z = np.array([[1], [0], [-1]])\n",
        "SM(z)"
      ],
      "execution_count": 7,
      "outputs": [
        {
          "output_type": "execute_result",
          "data": {
            "text/plain": [
              "array([[0.66524096],\n",
              "       [0.24472847],\n",
              "       [0.09003057]])"
            ]
          },
          "metadata": {
            "tags": []
          },
          "execution_count": 7
        }
      ]
    },
    {
      "cell_type": "markdown",
      "metadata": {
        "id": "xYjIQLRleiMg",
        "colab_type": "text"
      },
      "source": [
        "**Problem 2.A**"
      ]
    },
    {
      "cell_type": "code",
      "metadata": {
        "id": "oETivVBBemUi",
        "colab_type": "code",
        "colab": {
          "base_uri": "https://localhost:8080/",
          "height": 72
        },
        "outputId": "230a32fa-aff0-4528-96a7-87a1d11a3da0"
      },
      "source": [
        "z = np.array([[-1, 0, 1]]).T\n",
        "# Your code here\n",
        "SM(z)"
      ],
      "execution_count": 15,
      "outputs": [
        {
          "output_type": "execute_result",
          "data": {
            "text/plain": [
              "array([[0.09003057],\n",
              "       [0.24472847],\n",
              "       [0.66524096]])"
            ]
          },
          "metadata": {
            "tags": []
          },
          "execution_count": 15
        }
      ]
    },
    {
      "cell_type": "markdown",
      "metadata": {
        "id": "wiHN0bJHevw2",
        "colab_type": "text"
      },
      "source": [
        "**Problem 2.C - 2.F**"
      ]
    },
    {
      "cell_type": "code",
      "metadata": {
        "id": "_6FPSgJHeu_Q",
        "colab_type": "code",
        "colab": {
          "base_uri": "https://localhost:8080/",
          "height": 128
        },
        "outputId": "eed1a31d-d3bf-48cf-dbe0-6a775c82f4d0"
      },
      "source": [
        "w = np.array([[1, -1, -2], [-1, 2, 1]])\n",
        "x = np.array([[1], [1]])\n",
        "y = np.array([[0, 1, 0]]).T\n",
        "# Your code here\n",
        "# Gradient of NLL wrt W:\n",
        "grad = np.dot(x, (SM(np.dot(w.T, x))-y).T)\n",
        "print(grad)\n",
        "\n",
        "# One-step opt with step=0.5\n",
        "w = w - 0.5 * grad\n",
        "print(w.tolist())\n",
        "\n",
        "# New probabilities given new w\n",
        "p = SM(np.dot(w.T, x))\n",
        "p"
      ],
      "execution_count": 24,
      "outputs": [
        {
          "output_type": "stream",
          "text": [
            "[[ 0.24472847 -0.33475904  0.09003057]\n",
            " [ 0.24472847 -0.33475904  0.09003057]]\n",
            "[[0.8776357644726012, -0.8326204778874109, -2.04501528658519], [-1.1223642355273988, 2.167379522112589, 0.9549847134148097]]\n"
          ],
          "name": "stdout"
        },
        {
          "output_type": "execute_result",
          "data": {
            "text/plain": [
              "array([[0.15918761],\n",
              "       [0.77245284],\n",
              "       [0.06835955]])"
            ]
          },
          "metadata": {
            "tags": []
          },
          "execution_count": 24
        }
      ]
    },
    {
      "cell_type": "code",
      "metadata": {
        "id": "zG1pTtzn0btU",
        "colab_type": "code",
        "colab": {}
      },
      "source": [
        ""
      ],
      "execution_count": 0,
      "outputs": []
    },
    {
      "cell_type": "markdown",
      "metadata": {
        "id": "X-sRxHa9e7w9",
        "colab_type": "text"
      },
      "source": [
        "# **Problem 3**"
      ]
    },
    {
      "cell_type": "markdown",
      "metadata": {
        "id": "5hRvq915LqFz",
        "colab_type": "text"
      },
      "source": [
        "**Problem 3.1**\n",
        "\n",
        "You may choose to draft your implementation here. We recommend looking at the ReLU plot at the top of the homework page for better understanding."
      ]
    },
    {
      "cell_type": "code",
      "metadata": {
        "id": "l7QkgtSofQ-h",
        "colab_type": "code",
        "colab": {}
      },
      "source": [
        "def dReLU_dz(z):\n",
        "    '''\n",
        "    z is a column vector\n",
        "    You should return a column vector\n",
        "    '''\n",
        "    return (z > 0).astype(int)"
      ],
      "execution_count": 0,
      "outputs": []
    },
    {
      "cell_type": "code",
      "metadata": {
        "id": "cCMbGXKjNhqE",
        "colab_type": "code",
        "colab": {}
      },
      "source": [
        ""
      ],
      "execution_count": 0,
      "outputs": []
    }
  ]
}