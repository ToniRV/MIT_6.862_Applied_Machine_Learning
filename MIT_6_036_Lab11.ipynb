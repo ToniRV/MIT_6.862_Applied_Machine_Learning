{
  "nbformat": 4,
  "nbformat_minor": 0,
  "metadata": {
    "colab": {
      "name": "MIT 6.036 Lab11.ipynb",
      "provenance": [],
      "collapsed_sections": [],
      "toc_visible": true,
      "include_colab_link": true
    },
    "kernelspec": {
      "name": "python3",
      "display_name": "Python 3"
    }
  },
  "cells": [
    {
      "cell_type": "markdown",
      "metadata": {
        "id": "view-in-github",
        "colab_type": "text"
      },
      "source": [
        "<a href=\"https://colab.research.google.com/github/ToniRV/MIT_6.862_Applied_Machine_Learning/blob/master/MIT_6_036_Lab11.ipynb\" target=\"_parent\"><img src=\"https://colab.research.google.com/assets/colab-badge.svg\" alt=\"Open In Colab\"/></a>"
      ]
    },
    {
      "cell_type": "markdown",
      "metadata": {
        "id": "2XozwtJgh1-u",
        "colab_type": "text"
      },
      "source": [
        "# **MIT 6.036 Spring 2020: Lab 11**\n",
        "\n",
        "This colab notebook provides code and a framework for sections 2 and 3 of the lab.\n",
        "\n",
        "## **Setup**\n",
        "\n",
        "First, download the code distribution for this homework that contains test cases and helper functions.\n",
        "\n",
        "Run the next code block to download and import the code for this lab."
      ]
    },
    {
      "cell_type": "code",
      "metadata": {
        "id": "rCJPrb3KhPmw",
        "colab_type": "code",
        "colab": {
          "base_uri": "https://localhost:8080/",
          "height": 391
        },
        "outputId": "ac8e613d-76a0-47b9-93a6-53699598d759"
      },
      "source": [
        "!rm -rf code_for_lab11*\n",
        "!wget --quiet https://introml.odl.mit.edu/cat-soop/_static/6.036/labs/lab11/code_for_lab_11.zip\n",
        "!unzip code_for_lab_11.zip\n",
        "!mv ./code_for_lab11/* ./"
      ],
      "execution_count": 4,
      "outputs": [
        {
          "output_type": "stream",
          "text": [
            "Archive:  code_for_lab_11.zip\n",
            "   creating: code_for_lab11/\n",
            "  inflating: code_for_lab11/code_for_lab11.py  \n",
            "  inflating: code_for_lab11/metal_bands.txt  \n",
            "  inflating: code_for_lab11/.DS_Store  \n",
            "  inflating: code_for_lab11/util.py  \n",
            "  inflating: code_for_lab11/companies.csv  \n",
            "   creating: code_for_lab11/models/\n",
            "  inflating: code_for_lab11/models/metal_rnn.p  \n",
            "  inflating: code_for_lab11/models/MIT_classes_rnn.p  \n",
            "  inflating: code_for_lab11/models/food_rnn.p  \n",
            "  inflating: code_for_lab11/models/companies_rnn.p  \n",
            "  inflating: code_for_lab11/sm.py    \n",
            "  inflating: code_for_lab11/baskervilles.txt  \n",
            "  inflating: code_for_lab11/MIT_classes.txt  \n",
            "  inflating: code_for_lab11/basicEnglish.txt  \n",
            "  inflating: code_for_lab11/simple_poem.txt  \n",
            "  inflating: code_for_lab11/food.txt  \n",
            "  inflating: code_for_lab11/mousquetaires.txt  \n",
            "  inflating: code_for_lab11/companies.txt  \n",
            "   creating: __MACOSX/\n",
            "  inflating: __MACOSX/._code_for_lab11  \n"
          ],
          "name": "stdout"
        }
      ]
    },
    {
      "cell_type": "code",
      "metadata": {
        "id": "z5FLPgjtrnU2",
        "colab_type": "code",
        "colab": {}
      },
      "source": [
        "from sm import *\n",
        "from util import *\n",
        "from code_for_lab11 import *\n",
        "import numpy as np\n",
        "import _pickle as cPickle\n",
        "m = cPickle.load(open('models/food_rnn.p', 'rb'))"
      ],
      "execution_count": 0,
      "outputs": []
    },
    {
      "cell_type": "markdown",
      "metadata": {
        "id": "nOp2ZR1Nlc92",
        "colab_type": "text"
      },
      "source": [
        "## **Section 2, Problem B**\n",
        "\n",
        "Below, you will find definitions of a procedure called *test_linear_accumulator* for training an rnn with input and output sequences of the kind produced by Accumulator. (Alternatively, you can look at *code_for_lab11.py* of the code file available for download) Study this function, in particular, the definition of the RNN instance; compare to your choices in the previous question."
      ]
    },
    {
      "cell_type": "code",
      "metadata": {
        "id": "Otw09SGC1gk3",
        "colab_type": "code",
        "colab": {}
      },
      "source": [
        "# please evaluate this cell to see its output\n",
        "\n",
        "def test_linear_accumulator(num_steps = 10000,\n",
        "                            num_seqs = 400, seq_length = 40,\n",
        "                            step_size = .01):\n",
        "    # generate random training data: num_seqs of seq_length of random\n",
        "    # numbers between -0.5 and 0.5.\n",
        "    data = []\n",
        "    for _ in range(num_seqs):           \n",
        "        x = np.random.random((1, seq_length)) - 0.5 # seq in\n",
        "        y = np.zeros((1, seq_length))               # seq out\n",
        "        for j in range(seq_length):\n",
        "            y[0, j] = x[0, j] + (0.0 if j == 0 else y[0, j-1])\n",
        "        data.append((x, y))\n",
        "    # specify rnn\n",
        "    rnn = RNN(1, 1, 1, quadratic_loss, lambda z: z, quadratic_linear_gradient,\n",
        "              step_size, lambda z: z, lambda z: 1)\n",
        "    # train it\n",
        "    rnn.train_seq_to_seq(data, num_steps)\n",
        "    # print weights\n",
        "    print(\"Wsx: \", rnn.Wsx); print(\"Wss: \", rnn.Wss); print(\"Wo: \", rnn.Wo); print(\"Wss0: \", rnn.Wss0); print(\"Wo0: \", rnn.Wo0)\n",
        "    return rnn\n"
      ],
      "execution_count": 0,
      "outputs": []
    },
    {
      "cell_type": "markdown",
      "metadata": {
        "id": "Z-OD7bEq1pSL",
        "colab_type": "text"
      },
      "source": [
        "Now run this function a few times, making sure that the training error is low and look at the final weights. Relate to the weights you chose above. Explain."
      ]
    },
    {
      "cell_type": "code",
      "metadata": {
        "colab_type": "code",
        "id": "t1QR46mE1Vzj",
        "colab": {
          "base_uri": "https://localhost:8080/",
          "height": 272
        },
        "outputId": "5b416c8a-65dd-4ba3-dcf7-eea2136b9b65"
      },
      "source": [
        "test_linear_accumulator()"
      ],
      "execution_count": 15,
      "outputs": [
        {
          "output_type": "stream",
          "text": [
            "1/10: training error 0.13807133495624757\n",
            "2/10: training error 0.001453226606868265\n",
            "3/10: training error 0.0789253934195454\n",
            "4/10: training error 0.0003422822057113944\n",
            "5/10: training error 1.6857913729273328e-13\n",
            "6/10: training error 0.011662864381895769\n",
            "7/10: training error 0.001950805452275954\n",
            "8/10: training error 0.007924441333432963\n",
            "9/10: training error 0.017834572363234574\n",
            "Wsx:  [[2.44547796]]\n",
            "Wss:  [[1.00000004]]\n",
            "Wo:  [[0.40891806]]\n",
            "Wss0:  [[1.88294113e-08]]\n",
            "Wo0:  [[5.0604547e-08]]\n"
          ],
          "name": "stdout"
        },
        {
          "output_type": "execute_result",
          "data": {
            "text/plain": [
              "<code_for_lab11.RNN at 0x7f391314a9b0>"
            ]
          },
          "metadata": {
            "tags": []
          },
          "execution_count": 15
        }
      ]
    },
    {
      "cell_type": "markdown",
      "metadata": {
        "id": "HZ629z-1xz4d",
        "colab_type": "text"
      },
      "source": [
        "## **Section 3**"
      ]
    },
    {
      "cell_type": "markdown",
      "metadata": {
        "id": "D4RKu7cNesji",
        "colab_type": "text"
      },
      "source": [
        "### Generating sequences\n",
        "\n",
        "We are interested in building an RNN model that can predict the next\n",
        "element in a sequence (this is sometimes referred to as a \"language\"\n",
        "model).    The particular form of the model that we will look at is:\n",
        "\n",
        "<displaymath>\n",
        "\\begin{align}\n",
        "x_t &= \\phi(c_{t-1})\\\\\n",
        "s_t &= \\tanh(W^{ss} s_{t-1} + W^{sx} x_t + W^{ss}_0)\\\\\n",
        "p_t &= \\text{softmax}(W^o s_t + W^o_0)\n",
        "\\end{align}\n",
        "</displaymath>\n",
        "\n",
        "**Please refer to the lab's prompt for more definitions and details about this section.**\n",
        "\n",
        "As we just said, you can find more details in the lab's prompt, but here some extra details:\n",
        "\n",
        "Training is as follows:\n",
        "<ul>\n",
        "<li> For each sequence in the input data, it feeds in character <math>t-1</math> from\n",
        "  the training data and predicts character $t$.  </li>\n",
        "</ul>\n",
        "\n",
        "Generation is as follows:\n",
        "<ul>\n",
        "<li> Starting with the `start` symbol ('.'), it predicts a next\n",
        "  character based on the softmax distribution in the trained model,\n",
        "  then it feeds that character into the model and repeats until an\n",
        "  <i>end</i> symbol ('\\n') is generated.</li>\n",
        "</ul>\n",
        "\n",
        "\n"
      ]
    },
    {
      "cell_type": "markdown",
      "metadata": {
        "id": "FtbW_gHiyyAq",
        "colab_type": "text"
      },
      "source": [
        "For each of \n",
        "\n",
        "*   \"aaaaaaaaaa\"\n",
        "*   \"aabaaabbaaaababaabaa\"\n",
        "*   \"abcdefghijklmnopqrstuvwxyz\"\n",
        "*   \"abcabcabcabcabc\"\n",
        "\n",
        "train an RNN and assess the difficulty of learning each string. You may control *num_hidden* and *num_steps* to facilitate your training in the code below.\n",
        "\n",
        "**Note**: The output of `test_word` is 100 sequences produced by running the generation process on a trained model.\n"
      ]
    },
    {
      "cell_type": "code",
      "metadata": {
        "id": "euRE-Zglzket",
        "colab_type": "code",
        "colab": {}
      },
      "source": [
        "test_word(word=\"aaaaaaaaaa\", interactive = False, num_hidden=1, num_steps=1000, step_size=0.005)"
      ],
      "execution_count": 0,
      "outputs": []
    },
    {
      "cell_type": "code",
      "metadata": {
        "id": "--_tiGbyzoCW",
        "colab_type": "code",
        "colab": {}
      },
      "source": [
        "test_word(word=\"aabaaabbaaaababaabaa\", interactive = False, num_hidden=1, num_steps=1000, step_size=0.005)"
      ],
      "execution_count": 0,
      "outputs": []
    },
    {
      "cell_type": "code",
      "metadata": {
        "id": "aGAyQxO7zqSG",
        "colab_type": "code",
        "colab": {}
      },
      "source": [
        "test_word(word=\"abcdefghijklmnopqrstuvwxyz\", interactive = False, num_hidden=1, num_steps=10000, step_size=0.005)"
      ],
      "execution_count": 0,
      "outputs": []
    },
    {
      "cell_type": "code",
      "metadata": {
        "id": "9BI7pgDbzsim",
        "colab_type": "code",
        "colab": {}
      },
      "source": [
        "test_word(word=\"abcabcabcabcabc\", interactive = False, num_hidden=1, num_steps=10000, step_size=0.005)"
      ],
      "execution_count": 0,
      "outputs": []
    },
    {
      "cell_type": "markdown",
      "metadata": {
        "id": "zuA9fE44zdUb",
        "colab_type": "text"
      },
      "source": [
        "## Problem 3D\n",
        "\n",
        "The *test_company_names* function uses a file <a href=\"https://docs.google.com/spreadsheets/d/16wbhwRwu5AP4gydX9buHZj884v48HURaalYtKmdT8r0/edit?usp=sharing\">companies.txt</a> of company names for training and generates new names.\n",
        "\n",
        "Experiment with different values of `num_steps`; more steps gives better results. Try it in interactive mode; it's more fun.\n",
        "\n",
        "**In running `test_company_names`, first try with `train=True`; you can train the RNN yourself with this option. If this takes too much time, run  `test_company_names` with `train=False`; you can simply load a pre-trained model with this option.**\n",
        "\n",
        "Please note that when we train our models, we need to decide what will be our vocabulary size (i.e. how many classes/characters/words our model will learn to predict). Hence, it is possible that when you input a character/word that is out of that vocabulary (depending on how the model is trained -- character-based or word-based), the model crashes (in more sophisticated solutions we could use a `<unknown>` token to represent **tokens out of vocabulary.**)\n",
        "\n",
        "These models are trained by minimizing NLL.\n",
        "\n"
      ]
    },
    {
      "cell_type": "code",
      "metadata": {
        "id": "oj8wsxKr18Mj",
        "colab_type": "code",
        "colab": {}
      },
      "source": [
        "train = False\n",
        "\n",
        "test_company_names(interactive = False, interactive_top5 = False,\n",
        "                   train=train)\n",
        "\n",
        "#Trained with num_hidden = 150, num_steps = 20000,\n",
        "#             step_size = .001, split=0"
      ],
      "execution_count": 0,
      "outputs": []
    },
    {
      "cell_type": "code",
      "metadata": {
        "id": "ZEwfEUrzx2zr",
        "colab_type": "code",
        "colab": {}
      },
      "source": [
        "# This cell may take a long time because here we are training a model!\n",
        "train = True\n",
        "\n",
        "test_company_names(interactive = False, interactive_top5 = False, \n",
        "           split=0, num_hidden = 150, \n",
        "           num_steps = 20000, step_size = .001, train=train)"
      ],
      "execution_count": 0,
      "outputs": []
    },
    {
      "cell_type": "markdown",
      "metadata": {
        "id": "rxC8sgJV0WOP",
        "colab_type": "text"
      },
      "source": [
        "## Problem 3E\n",
        "\n",
        "The *test_food* function uses a file <a href=\"https://docs.google.com/spreadsheets/d/12eomCfekSdqTlOB4Xwp3n7_FN0SVdVrTDLVUBq-1jyw/edit?usp=sharing\">food.txt</a> of recipe names. Experiment with different values of num_steps; more steps gives better results. Try it in interactive mode; it's more fun. Note the difference between starting with a capital letter versus lower case letter.\n",
        "\n",
        "**In running `test_food`, first try with `train=True`; you can train the RNN yourself with this option. If this takes too much time, run  `test_food` with `train=False`; you can simply load a pre-trained model with this option.**\n",
        "\n"
      ]
    },
    {
      "cell_type": "code",
      "metadata": {
        "id": "T-G-bm0p1_FT",
        "colab_type": "code",
        "colab": {}
      },
      "source": [
        "train = False\n",
        "\n",
        "test_food(interactive = True, interactive_top5 = False, \n",
        "          train=train)\n",
        "\n",
        "#Trained with num_hidden = 150, num_steps = 20000,\n",
        "#             step_size = .001, split=0"
      ],
      "execution_count": 0,
      "outputs": []
    },
    {
      "cell_type": "code",
      "metadata": {
        "id": "pHRpZudK0iye",
        "colab_type": "code",
        "colab": {}
      },
      "source": [
        "# This cell may take a long time because here we are training a model!\n",
        "train = True\n",
        "\n",
        "test_food(interactive = True, interactive_top5 = False, \n",
        "          split=0, num_hidden = 150, \n",
        "          num_steps = 20000, step_size = .001, train=train)"
      ],
      "execution_count": 0,
      "outputs": []
    },
    {
      "cell_type": "markdown",
      "metadata": {
        "id": "BFYBVV4Svfsh",
        "colab_type": "text"
      },
      "source": [
        "## Problem 3F\n",
        "\n",
        "Now run one of <code>test_food, test_company_names</code> with <code>interactive_top5=True</code>; play with them for a while. Can you notice the mechanism of how these functions generate their output? \n",
        "\n",
        "Use the cell below to run one of <code> test_food, test_company_names</code> with <code>interactive_top5=True</code>!\n",
        "\n",
        "- What is the mechanism by which these RNNs generate their output? More specifically, what character does the trained RNN seem to output at each location?\n",
        "- Also, what would be a reasonable criterion for the above-trained RNNs to stop generating more characters? When does it seem to stop? Be prepared to explain this during checkoff."
      ]
    },
    {
      "cell_type": "code",
      "metadata": {
        "id": "Ug4mvoGaVeKR",
        "colab_type": "code",
        "colab": {}
      },
      "source": [
        "train = False\n",
        "\n",
        "test_food(interactive = True, interactive_top5 = True,\n",
        "          train=train)\n",
        "\n",
        "# Pre trained with split=0, num_hidden = 150,\n",
        "#                   num_steps = 20000, step_size = .001, "
      ],
      "execution_count": 0,
      "outputs": []
    },
    {
      "cell_type": "code",
      "metadata": {
        "id": "c3R3Hmu0xvht",
        "colab_type": "code",
        "colab": {}
      },
      "source": [
        "train = False\n",
        "\n",
        "test_company_names(interactive = True, interactive_top5 = True,\n",
        "                  train=train)\n",
        "\n",
        "# Pre trained with split=0, num_hidden = 150,\n",
        "#                   num_steps = 20000, step_size = .001, "
      ],
      "execution_count": 0,
      "outputs": []
    }
  ]
}