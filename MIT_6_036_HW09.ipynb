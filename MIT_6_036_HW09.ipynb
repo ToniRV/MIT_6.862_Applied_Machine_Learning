{
  "nbformat": 4,
  "nbformat_minor": 0,
  "metadata": {
    "colab": {
      "name": "MIT 6.036 HW09",
      "provenance": [],
      "collapsed_sections": [],
      "include_colab_link": true
    },
    "kernelspec": {
      "name": "python3",
      "display_name": "Python 3"
    }
  },
  "cells": [
    {
      "cell_type": "markdown",
      "metadata": {
        "id": "view-in-github",
        "colab_type": "text"
      },
      "source": [
        "<a href=\"https://colab.research.google.com/github/ToniRV/MIT_6.862_Applied_Machine_Learning/blob/master/MIT_6_036_HW09.ipynb\" target=\"_parent\"><img src=\"https://colab.research.google.com/assets/colab-badge.svg\" alt=\"Open In Colab\"/></a>"
      ]
    },
    {
      "cell_type": "markdown",
      "metadata": {
        "id": "wCZ5V-cO65Yr",
        "colab_type": "text"
      },
      "source": [
        "#MIT 6.036 Spring 2020: Homework 9#\n",
        "\n",
        "This colab notebook provides code and a framework for question 1 and 5 of the [homework](https://lms.mitx.mit.edu/courses/course-v1:MITx+6.036+2020_Spring/courseware/Week9/week9_homework/).  You can work out your solutions here, then submit your results back on the homework page when ready.\n"
      ]
    },
    {
      "cell_type": "markdown",
      "metadata": {
        "id": "oqYqLxGp7hZZ",
        "colab_type": "text"
      },
      "source": [
        "## Setup"
      ]
    },
    {
      "cell_type": "markdown",
      "metadata": {
        "id": "NaNYfsS87tUi",
        "colab_type": "text"
      },
      "source": [
        "First, download the code distribution for this homework that contains test cases and helper functions.\n",
        "\n",
        "Run the next code block to download and import the code for this lab."
      ]
    },
    {
      "cell_type": "code",
      "metadata": {
        "id": "c7CRuXxj7ubB",
        "colab_type": "code",
        "colab": {
          "base_uri": "https://localhost:8080/",
          "height": 367
        },
        "outputId": "b0c73fe7-ec14-4a74-b324-c25b17aaa482"
      },
      "source": [
        "!rm -rf code_for_hw9*\n",
        "!wget --quiet https://introml.odl.mit.edu/cat-soop/_static/6.036/homework/hw09/code_for_hw9.zip\n",
        "!unzip code_for_hw9.zip\n",
        "!mv code_for_hw9/* .\n",
        "\n",
        "from dist import *\n",
        "from sm import *\n",
        "from util import *\n",
        "from mdp import *\n",
        "\n",
        "import mdp\n",
        "import numpy as np"
      ],
      "execution_count": 1,
      "outputs": [
        {
          "output_type": "stream",
          "text": [
            "Archive:  code_for_hw9.zip\n",
            "   creating: code_for_hw9/\n",
            "  inflating: code_for_hw9/util.py    \n",
            "   creating: __MACOSX/\n",
            "   creating: __MACOSX/code_for_hw9/\n",
            "  inflating: __MACOSX/code_for_hw9/._util.py  \n",
            "  inflating: code_for_hw9/sm.py      \n",
            "  inflating: __MACOSX/code_for_hw9/._sm.py  \n",
            "  inflating: code_for_hw9/mdp.py     \n",
            "  inflating: __MACOSX/code_for_hw9/._mdp.py  \n",
            "  inflating: code_for_hw9/tests.py   \n",
            "  inflating: __MACOSX/code_for_hw9/._tests.py  \n",
            "  inflating: code_for_hw9/dist.py    \n",
            "  inflating: __MACOSX/code_for_hw9/._dist.py  \n",
            "  inflating: __MACOSX/._code_for_hw9  \n",
            "   creating: code_for_hw9/__pycache__/\n",
            "  inflating: code_for_hw9/__pycache__/mdp.cpython-38.pyc  \n",
            "  inflating: code_for_hw9/__pycache__/sm.cpython-38.pyc  \n",
            "  inflating: code_for_hw9/__pycache__/dist.cpython-38.pyc  \n",
            "  inflating: code_for_hw9/__pycache__/util.cpython-38.pyc  \n"
          ],
          "name": "stdout"
        }
      ]
    },
    {
      "cell_type": "markdown",
      "metadata": {
        "id": "uhGY4b888N52",
        "colab_type": "text"
      },
      "source": [
        "## 1) State Machines\n",
        "\n",
        "We will implement state machines as sub-classes of the `SM` class, which specifies the `start_state`, `transition_fn` and `output_fn`.\n",
        "\n",
        "```\n",
        "class SM:\n",
        "    start_state = None  # default start state\n",
        "    def transition_fn(self, s, x):\n",
        "        '''s:       the current state\n",
        "           i:       the given input\n",
        "           returns: the next state'''\n",
        "        raise NotImplementedError\n",
        "    def output_fn(self, s):\n",
        "        '''s:       the current state\n",
        "           returns: the corresponding output'''\n",
        "        raise NotImplementedError\n",
        "```\n",
        "\n",
        "An example of a sub-class is the `Accumulator` state machine, which adds up (accumulates) its input and outputs the sum. Convince yourself that the implementation works as expected before moving on.\n",
        "\n",
        "```\n",
        "class Accumulator(SM):\n",
        "    start_state = 0\n",
        "    def transition_fn(self, s, x):\n",
        "        return s + x\n",
        "    def output_fn(self, s):\n",
        "        return s\n",
        "```"
      ]
    },
    {
      "cell_type": "markdown",
      "metadata": {
        "id": "sYF-u59B861-",
        "colab_type": "text"
      },
      "source": [
        "### 1.1 Transduce\n",
        "Implement the `transduce` method for the `SM` class. It is given an input sequence (a list) and returns an output sequence (a list) of the outputs of the state machine on the input sequence. Assume `self.transition_fn` and `self.output_fn` are defined."
      ]
    },
    {
      "cell_type": "code",
      "metadata": {
        "id": "Xy42nJa69D3i",
        "colab_type": "code",
        "colab": {}
      },
      "source": [
        "class SM:\n",
        "    start_state = None\n",
        "\n",
        "    def transduce(self, input_seq):\n",
        "        '''input_seq: a list of inputs to feed into SM\n",
        "           returns:   a list of outputs of SM'''\n",
        "        state = self.start_state\n",
        "        output = []\n",
        "        for inp in input_seq:\n",
        "            state = self.transition_fn(state, inp)\n",
        "            output.append(self.output_fn(state))\n",
        "        return output "
      ],
      "execution_count": 0,
      "outputs": []
    },
    {
      "cell_type": "markdown",
      "metadata": {
        "id": "Kzdkh0p8AGi_",
        "colab_type": "text"
      },
      "source": [
        "Below is the `Accumulator` state machine implementation that you saw above as well as an unit test to help test your `SM` class."
      ]
    },
    {
      "cell_type": "code",
      "metadata": {
        "id": "qmRnua5p_U9j",
        "colab_type": "code",
        "colab": {
          "base_uri": "https://localhost:8080/",
          "height": 34
        },
        "outputId": "84f3a173-b7bf-4236-caf7-ec4b364ae257"
      },
      "source": [
        "class Accumulator(SM):\n",
        "    start_state = 0\n",
        "\n",
        "    def transition_fn(self, s, x):\n",
        "        return s + x\n",
        "\n",
        "    def output_fn(self, s):\n",
        "        return s\n",
        "    \n",
        "def test_accumulator_sm():\n",
        "    res = Accumulator().transduce([-1, 2, 3, -2, 5, 6])\n",
        "    assert(res == [-1, 1, 4, 2, 7, 13])\n",
        "    print(\"Test passed!\")\n",
        "\n",
        "# Unit test\n",
        "test_accumulator_sm()"
      ],
      "execution_count": 3,
      "outputs": [
        {
          "output_type": "stream",
          "text": [
            "Test passed!\n"
          ],
          "name": "stdout"
        }
      ]
    },
    {
      "cell_type": "markdown",
      "metadata": {
        "id": "j-QW8TSk9T1E",
        "colab_type": "text"
      },
      "source": [
        "### 1.2 Binary Addition\n",
        "Implement a `Binary_Addition` state machine that takes in a sequence of pairs of binary digits (0,1) representing two reversed binary numbers and returns a sequence of digits representing the reversed sum. For instance, to sum two binary numbers `100` and `011`, the input sequence will be `[(0, 1), (0, 1), (1, 0)]`. You will need to define `start_state`, `transition_fn` and `output_fn`. Note that when transduced, the input sequence may need to be extended with an extra (0,0) to output the final carry."
      ]
    },
    {
      "cell_type": "code",
      "metadata": {
        "id": "JKcWyGrZ9mEj",
        "colab_type": "code",
        "colab": {}
      },
      "source": [
        "class Binary_Addition(SM):\n",
        "    start_state = (0, 0)\n",
        "\n",
        "    def transition_fn(self, s, x):\n",
        "        (carry, digit) = s\n",
        "        (i0, i1) = x\n",
        "        total = i0 + i1 + carry\n",
        "        return 1 if total > 1 else 0, total % 2\n",
        "\n",
        "    def output_fn(self, s):\n",
        "        (carry, digit) = s\n",
        "        return digit"
      ],
      "execution_count": 0,
      "outputs": []
    },
    {
      "cell_type": "code",
      "metadata": {
        "id": "5hvOZXkcA0Au",
        "colab_type": "code",
        "colab": {
          "base_uri": "https://localhost:8080/",
          "height": 52
        },
        "outputId": "cd626fbe-f79e-42c4-fdde-3adc0e44e8cb"
      },
      "source": [
        "def test_binary_addition_sm():\n",
        "    res = Binary_Addition().transduce([(1, 1), (1, 0), (0, 0)])\n",
        "    print(res)\n",
        "    assert(res == [0, 0, 1])\n",
        "    print(\"Test passed!\")\n",
        "\n",
        "# Unit test\n",
        "test_binary_addition_sm()"
      ],
      "execution_count": 5,
      "outputs": [
        {
          "output_type": "stream",
          "text": [
            "[0, 0, 1]\n",
            "Test passed!\n"
          ],
          "name": "stdout"
        }
      ]
    },
    {
      "cell_type": "markdown",
      "metadata": {
        "id": "vtIAZJN79s0h",
        "colab_type": "text"
      },
      "source": [
        "### 1.3 Reverser\n",
        "Implement a state machine that reverses a sequence. The input is a list of the form:\n",
        "\n",
        "```\n",
        " sequence1 + ['end'] + sequence2\n",
        " ```\n",
        " \n",
        "`+` refers to concatenation. `sequence1` is a list of strings, the `'end'` string indicates termination, and `sequence2` is arbitrary. The machine reverses `sequence1`: for each entry in the `sequence1`, the machine outputs `None`. For the `'end'` input and each entry in the second sequence, an item from the reversed `sequence1` is output, or `None` if no characters remain."
      ]
    },
    {
      "cell_type": "code",
      "metadata": {
        "id": "VtsUESbg9wAS",
        "colab_type": "code",
        "colab": {}
      },
      "source": [
        "class Reverser(SM):\n",
        "    start_state = ([],False,[]) # Change\n",
        "\n",
        "    def transition_fn(self, s, x):\n",
        "        # Your code here\n",
        "        if (x is 'end'):\n",
        "          # Signal the end\n",
        "          s = (s[0], True, s[2]) \n",
        "        \n",
        "        if (s[1] is True):\n",
        "          # We already found 'end' string\n",
        "          # Output pop or None if empty\n",
        "          new_s0 = [*s[0], None] if len(s[2]) == 0 else [*s[0], s[2].pop()]\n",
        "          s = (new_s0, s[1], s[2])\n",
        "        else:\n",
        "          # We still didn't find 'end' string\n",
        "          # Keep recording string\n",
        "          # Output None\n",
        "          print(x)\n",
        "          s = ([*s[0], None], s[1], [*s[2], x])\n",
        "        return s\n",
        "\n",
        "    def output_fn(self, s):\n",
        "        # Your code here\n",
        "        (a, b, c) = s\n",
        "        return a[-1]\n"
      ],
      "execution_count": 0,
      "outputs": []
    },
    {
      "cell_type": "code",
      "metadata": {
        "id": "XchT3a-fA9oM",
        "colab_type": "code",
        "colab": {
          "base_uri": "https://localhost:8080/",
          "height": 87
        },
        "outputId": "95c1b034-52fb-4486-ec9c-1370b7a3a326"
      },
      "source": [
        "def test_reverser_sm():\n",
        "    res = Reverser().transduce(['foo', ' ', 'bar'] + ['end'] + list(range(5)))\n",
        "    assert(res == [None, None, None, 'bar', ' ', 'foo', None, None, None])\n",
        "    print(\"Test passed!\")\n",
        "\n",
        "# Unit test\n",
        "test_reverser_sm()"
      ],
      "execution_count": 7,
      "outputs": [
        {
          "output_type": "stream",
          "text": [
            "foo\n",
            " \n",
            "bar\n",
            "Test passed!\n"
          ],
          "name": "stdout"
        }
      ]
    },
    {
      "cell_type": "markdown",
      "metadata": {
        "id": "hmewFWqx_4ep",
        "colab_type": "text"
      },
      "source": [
        "### 1.4 RNN\n",
        "An RNN has a transition function and an output function, each of which is defined in terms of weight matrices, offset vectors and activation functions, analogously to standard neural networks.\n",
        "\n",
        "* The inputs $x$ are $l\\times1$ vectors\n",
        "* The states $s$ are $m\\times1$ vectors\n",
        "* The outputs $y$ are $n\\times1$ vectors\n",
        "\n",
        "The behavior is defined as follows:\n",
        "$$\\begin{align*} s_{t} & = f_1(W^{ss} s_{{t-1}} + W^{sx} x_{t} + W^{ss}_0) \\\\ y_{t} & = f_2(W^o s_{t} + W^o_0) \\end{align*}$$\n",
        "\n",
        "where $f_1$ and $f_2$ are two activation functions, such as linear, softmax or tanh.\n",
        "\n",
        "\n",
        "Note that each input `i` below has dimension `l x 1`. Implement the corresponding state machine, where the weights are given in `__init__`. Make sure to set an appropriate `start_state`."
      ]
    },
    {
      "cell_type": "code",
      "metadata": {
        "id": "TcuRs5y0A4n-",
        "colab_type": "code",
        "colab": {}
      },
      "source": [
        "# class RNN(SM):\n",
        "#   def __init__(self, Wsx, Wss, Wo, Wss_0, Wo_0, f1, f2, start_state):\n",
        "#       # Your code here\n",
        "#       self.Wsx = np.array(Wsx)\n",
        "#       self.Wss = np.array(Wss)\n",
        "#       self.Wo = np.array(Wo)\n",
        "#       self.Wss_0 = np.array(Wss_0)\n",
        "#       self.Wo_0 = np.array(Wo_0)\n",
        "#       self.f1 = f1\n",
        "#       self.f2 = f2\n",
        "#       self.start_state = np.array(start_state)\n",
        "#       \n",
        "#   def transition_fn(self, s, x):\n",
        "#       # Your code here\n",
        "#       return self.f1(self.Wss @ s + self.Wsx @ x + self.Wss_0)\n",
        "#   \n",
        "#   def output_fn(self, s):\n",
        "#       # Your code here\n",
        "#       return self.f2(self.Wo @ s + self.Wo_0)\n",
        "\n",
        "  \n",
        "# OR, more pythonic way:\n",
        "class RNN(SM):\n",
        "  def __init__(self, Wsx, Wss, Wo, Wss_0, Wo_0, f1, f2, start_state):\n",
        "      self.Wsx = Wsx\n",
        "      self.Wss = Wss\n",
        "      self.Wo = Wo\n",
        "      self.Wss_0 = Wss_0\n",
        "      self.Wo_0 = Wo_0\n",
        "      self.start_state = start_state\n",
        "      self.f1 = f1\n",
        "      self.f2 = f2\n",
        "  def transition_fn(self, s, x):\n",
        "      print(\"s: \", s)\n",
        "      print(\"x: \", x)\n",
        "      return self.f1(np.dot(self.Wss, s) + np.dot(self.Wsx, x) + self.Wss_0)\n",
        "  def output_fn(self, s):\n",
        "      return self.f2(np.dot(self.Wo, s) + self.Wo_0)"
      ],
      "execution_count": 0,
      "outputs": []
    },
    {
      "cell_type": "code",
      "metadata": {
        "id": "DcckX5R1JWII",
        "colab_type": "code",
        "colab": {
          "base_uri": "https://localhost:8080/",
          "height": 244
        },
        "outputId": "e9dab49f-ce27-48bf-cbda-f027b591c2d2"
      },
      "source": [
        "def softmax(z):\n",
        "    v = np.exp(z)\n",
        "    return v / np.sum(v, axis = 0)\n",
        "\n",
        "def test_rnn():\n",
        "    Wsx1 = np.array([[0.1],\n",
        "                     [0.3],\n",
        "                     [0.5]])\n",
        "    Wss1 = np.array([[0.1,0.2,0.3],\n",
        "                     [0.4,0.5,0.6],\n",
        "                     [0.7,0.8,0.9]])\n",
        "    Wo1 = np.array([[0.1,0.2,0.3],\n",
        "                    [0.4,0.5,0.6]])\n",
        "    Wss1_0 = np.array([[0.01],\n",
        "                       [0.02],\n",
        "                       [0.03]])\n",
        "    Wo1_0 = np.array([[0.1],\n",
        "                      [0.2]])\n",
        "    in1 = [np.array([[0.1]]),\n",
        "           np.array([[0.3]]),\n",
        "           np.array([[0.5]])]\n",
        "    start_state = np.array([[0,0,0]]).T\n",
        "    \n",
        "    rnn = RNN(Wsx1, Wss1, Wo1, Wss1_0, Wo1_0, np.tanh, softmax, start_state)\n",
        "    expected = np.array([[[0.4638293846951024], [0.5361706153048975]],\n",
        "                        [[0.4333239107898491], [0.566676089210151]],\n",
        "                        [[0.3821688606165438], [0.6178311393834561]]])\n",
        "\n",
        "    assert(np.allclose(expected, rnn.transduce(in1)))\n",
        "    print(\"Test passed!\")\n",
        "\n",
        "# Unit test\n",
        "test_rnn()"
      ],
      "execution_count": 9,
      "outputs": [
        {
          "output_type": "stream",
          "text": [
            "s:  [[0]\n",
            " [0]\n",
            " [0]]\n",
            "x:  [[0.1]]\n",
            "s:  [[0.01999733]\n",
            " [0.04995837]\n",
            " [0.07982977]]\n",
            "x:  [[0.3]]\n",
            "s:  [[0.07579469]\n",
            " [0.18859117]\n",
            " [0.296622  ]]\n",
            "x:  [[0.5]]\n",
            "Test passed!\n"
          ],
          "name": "stdout"
        }
      ]
    },
    {
      "cell_type": "markdown",
      "metadata": {
        "id": "1gRiDImvBrTF",
        "colab_type": "text"
      },
      "source": [
        "### 1.5 Accumulator Sign RNN\n",
        "Enter the parameter matrices and vectors for an instance of the `RNN` class such that the output is `1` if the cumulative sum of the inputs is positive, `-1` if the cumulative sum is negative and `0` if otherwise. Make sure that you scale the outputs so that the output activation values are very close to `1`, `0` and `-1`. Note that both the inputs and outputs are `1 x 1`.\n",
        "\n",
        "Hint: `np.tanh` may be useful. Remember to convert your Python lists to `np.array`."
      ]
    },
    {
      "cell_type": "code",
      "metadata": {
        "id": "PhH9pv3GBvam",
        "colab_type": "code",
        "colab": {}
      },
      "source": [
        "Wsx = [[1.0]]            # Your code here                                                                                                                                  \n",
        "Wss = [[1.0]]           # Your code here                                                                                                                                                 \n",
        "Wo =  [[1.0]]            # Your code here                                                                                                                                                 \n",
        "Wss_0 = [[0.0]]          # Your code here                                                                                                                                                 \n",
        "Wo_0 = [[0.0]]           # Your code here                                                                                                                                                 \n",
        "f1 = lambda x: x # Your code here, e.g. lambda x : x\n",
        "f2 = lambda x: [[0.0 if x == 0 else -1.0 if x <= 0 else 1.0]]  # Your code here\n",
        "start_state = [[0.0]]    # Your code here                                                                                                                                                 \n",
        "acc_sign = RNN(Wsx, Wss, Wo, Wss_0, Wo_0, f1, f2, start_state)\n",
        "\n",
        "\n",
        "# OR, smarter way:\n",
        "# Wsx =    np.array([[1]])\n",
        "# Wss =    np.array([[1]])\n",
        "# Wo =     np.array([[1000]])\n",
        "# Wss_0 =  np.array([[0]])\n",
        "# Wo_0 =   np.array([[0]])\n",
        "# f1 =     lambda x: x\n",
        "# f2 =     np.tanh\n",
        "# start_state = np.zeros((1,1))\n",
        "# acc_sign = RNN(Wsx, Wss, Wo, Wss_0, Wo_0, f1, f2, start_state)"
      ],
      "execution_count": 0,
      "outputs": []
    },
    {
      "cell_type": "code",
      "metadata": {
        "id": "78ug9-PLJk82",
        "colab_type": "code",
        "colab": {
          "base_uri": "https://localhost:8080/",
          "height": 262
        },
        "outputId": "951eb7aa-13e1-4939-b5f1-496e1695c9d3"
      },
      "source": [
        "def test_acc_sign_rnn(acc_sign_rnn):\n",
        "    res = acc_sign_rnn.transduce([[[-1]], [[-2]], [[2]], [[3]], [[-3]], [[1]]])\n",
        "    expected = np.array([[[-1.0]], [[-1.0]], [[-1.0]], [[1.0]], [[-1.0]], [[0.0]]])\n",
        "    print(res)\n",
        "    assert(np.allclose(expected, res))\n",
        "    print(\"Test passed!\")\n",
        "\n",
        "# Unit test\n",
        "test_acc_sign_rnn(acc_sign)"
      ],
      "execution_count": 11,
      "outputs": [
        {
          "output_type": "stream",
          "text": [
            "s:  [[0.0]]\n",
            "x:  [[-1]]\n",
            "s:  [[-1.]]\n",
            "x:  [[-2]]\n",
            "s:  [[-3.]]\n",
            "x:  [[2]]\n",
            "s:  [[-1.]]\n",
            "x:  [[3]]\n",
            "s:  [[2.]]\n",
            "x:  [[-3]]\n",
            "s:  [[-1.]]\n",
            "x:  [[1]]\n",
            "[[[-1.0]], [[-1.0]], [[-1.0]], [[1.0]], [[-1.0]], [[0.0]]]\n",
            "Test passed!\n"
          ],
          "name": "stdout"
        }
      ]
    },
    {
      "cell_type": "markdown",
      "metadata": {
        "id": "J01wlpQRCKyo",
        "colab_type": "text"
      },
      "source": [
        "### 1.6 Autoregression RNN\n",
        "\n",
        "Enter the parameter matrices and vectors for an instance of the `RNN` class such that it implements the following autoregressive model:\n",
        "$$y_t=y_{t-1} - 2y_{t-2} + 3y_{t-3}$$\n",
        "Set `start_state` such that $y_1=-2$, $y_t=0$ for $t\\lt1$. Note that all inputs will be zero.\n"
      ]
    },
    {
      "cell_type": "code",
      "metadata": {
        "id": "C744ijBCCOm5",
        "colab_type": "code",
        "colab": {}
      },
      "source": [
        "# Your code here\n",
        "Wsx = np.array([[0]], dtype=float)\n",
        "Wss = np.array([[1, 1, 0], \n",
        "                [-2, 0, 1],\n",
        "                [3, 0, 0]], dtype=float)\n",
        "Wo = np.array([[1, 0, 0],\n",
        "               [0, 1, 0],\n",
        "               [0, 0, 1]], dtype=float)\n",
        "Wss_0 = np.array([[0], [0], [0]],dtype=float )\n",
        "Wo_0 = np.array([[0], [0], [0]],dtype=float )\n",
        "f1 = lambda x: x             \n",
        "f2 = lambda x: [x[0].tolist()]\n",
        "start_state = np.array([[-2], [0], [0]], dtype=float)    # Your code here                                                                                                                                                 \n",
        "auto = RNN(Wsx, Wss, Wo, Wss_0, Wo_0, f1, f2, start_state)\n",
        "\n",
        "\n",
        "Wsx =    np.zeros((3,1))\n",
        "Wss =    np.array([[1, -2, 3],\n",
        "                   [1, 0, 0],\n",
        "                   [0, 1, 0]])\n",
        "Wo =     np.array([[1, 0, 0]])\n",
        "Wss_0 =  np.array([[0, 0, 0]]).T\n",
        "Wo_0 =   np.array([[0]])\n",
        "f1 =     lambda x: x\n",
        "f2 =     lambda x: x\n",
        "start_state = np.array([[-2, 0, 0]]).T\n",
        "auto = RNN(Wsx, Wss, Wo, Wss_0, Wo_0, f1, f2, start_state)"
      ],
      "execution_count": 0,
      "outputs": []
    },
    {
      "cell_type": "code",
      "metadata": {
        "id": "4RrDCow1J-M8",
        "colab_type": "code",
        "colab": {
          "base_uri": "https://localhost:8080/",
          "height": 402
        },
        "outputId": "e4383524-d692-4439-cee5-c9d9c140d588"
      },
      "source": [
        "def test_auto_rnn(auto_rnn):\n",
        "    res = auto_rnn.transduce([np.array([[0]]) for x in range(5)])\n",
        "    expected = np.array([[[-2.0]], [[2.0]], [[0.0]], [[-10.0]], [[-4.0]]])\n",
        "    print(res)\n",
        "    assert(np.allclose(expected, res))\n",
        "    print(\"Test passed!\")\n",
        "    \n",
        "# Unit test\n",
        "test_auto_rnn(auto)"
      ],
      "execution_count": 13,
      "outputs": [
        {
          "output_type": "stream",
          "text": [
            "s:  [[-2]\n",
            " [ 0]\n",
            " [ 0]]\n",
            "x:  [[0]]\n",
            "s:  [[-2.]\n",
            " [-2.]\n",
            " [ 0.]]\n",
            "x:  [[0]]\n",
            "s:  [[ 2.]\n",
            " [-2.]\n",
            " [-2.]]\n",
            "x:  [[0]]\n",
            "s:  [[ 0.]\n",
            " [ 2.]\n",
            " [-2.]]\n",
            "x:  [[0]]\n",
            "s:  [[-10.]\n",
            " [  0.]\n",
            " [  2.]]\n",
            "x:  [[0]]\n",
            "[array([[-2.]]), array([[2.]]), array([[0.]]), array([[-10.]]), array([[-4.]])]\n",
            "Test passed!\n"
          ],
          "name": "stdout"
        }
      ]
    },
    {
      "cell_type": "markdown",
      "metadata": {
        "id": "kTeY2j2diS2i",
        "colab_type": "text"
      },
      "source": [
        "#  2) MDP Theory\n",
        "\n",
        "## 2.2) At a discount\n",
        "\n"
      ]
    },
    {
      "cell_type": "code",
      "metadata": {
        "id": "_czvH7V5idZp",
        "colab_type": "code",
        "colab": {
          "base_uri": "https://localhost:8080/",
          "height": 87
        },
        "outputId": "037328e1-d11a-4ff8-cee7-badae5daf027"
      },
      "source": [
        "T  = np.matrix([[0.0 , 0.1 , 0.9 , 0.0],\n",
        "                [0.9 , 0.1 , 0.0 , 0.0],\n",
        "                [0.0 , 0.0 , 0.1 , 0.9],\n",
        "                [0.9 , 0.0 , 0.0 , 0.1]])\n",
        "g = 0.9\n",
        "r = np.matrix([0, 1., 0., 2.]).reshape(4, 1) # make into a column vector\n",
        "\n",
        "print(np.linalg.solve(np.eye(4) - g * T, r))"
      ],
      "execution_count": 54,
      "outputs": [
        {
          "output_type": "stream",
          "text": [
            "[[6.05288295]\n",
            " [6.48663207]\n",
            " [6.7519581 ]\n",
            " [7.58553317]]\n"
          ],
          "name": "stdout"
        }
      ]
    },
    {
      "cell_type": "code",
      "metadata": {
        "id": "cQQAN6zWjQZ5",
        "colab_type": "code",
        "colab": {}
      },
      "source": [
        "def reward(s, a):\n",
        "  if s == 1:\n",
        "    return 1\n",
        "  if s == 3:\n",
        "    return 2\n",
        "  return 0\n",
        "\n",
        "def evaluate(v):\n",
        "  Tb  = np.matrix([[0.0 , 0.9 , 0.1 , 0.0],\n",
        "                  [0.9 , 0.1 , 0.0 , 0.0],\n",
        "                  [0.0 , 0.0 , 0.1 , 0.9],\n",
        "                  [0.9 , 0.0 , 0.0 , 0.1]])\n",
        "  Tc  = np.matrix([[0.0 , 0.1 , 0.9 , 0.0],\n",
        "                  [0.9 , 0.1 , 0.0 , 0.0],\n",
        "                  [0.0 , 0.0 , 0.1 , 0.9],\n",
        "                  [0.9 , 0.0 , 0.0 , 0.1]])\n",
        "  discount = 0.9\n",
        "  r = np.matrix([0, 1., 0., 2.]).reshape(4, 1) # make into a column vector\n",
        "  q[0] = r[0] + Tb * [[q[0]], [q[1]], "
      ],
      "execution_count": 0,
      "outputs": []
    },
    {
      "cell_type": "markdown",
      "metadata": {
        "id": "fa8rXc0qDvkh",
        "colab_type": "text"
      },
      "source": [
        "## 5) MDP Implementations\n",
        "\n",
        "We'll be using a couple of simple classes to represent MDPs and probability distributions.\n",
        "\n",
        "###5.1 Working with MDPs\n",
        "\n",
        "Recall that given a $Q_\\pi$ for any policy $\\pi$, then $V_\\pi(s)$ = $\\max_a Q_\\pi(s, a)$.\n",
        "\n",
        "1. Write the `value` method, which takes a $Q$ function (an instance of `TabularQ`) and a state and returns the value `V` of an action that maximizes $Q$ function stored in `q`.\n",
        "\n"
      ]
    },
    {
      "cell_type": "code",
      "metadata": {
        "id": "i9bNukNug53m",
        "colab_type": "code",
        "colab": {}
      },
      "source": [
        "def value(q, s):\n",
        "    \"\"\" Return Q*(s,a) based on current Q\n",
        "\n",
        "    >>> q = TabularQ([0,1,2,3],['b','c'])\n",
        "    >>> q.set(0, 'b', 5)\n",
        "    >>> q.set(0, 'c', 10)\n",
        "    >>> q_star = value(q,0)\n",
        "    >>> q_star\n",
        "    10\n",
        "    \"\"\"\n",
        "    # Your code here\n",
        "    return max(q.get(s, a) for a in q.actions)"
      ],
      "execution_count": 0,
      "outputs": []
    },
    {
      "cell_type": "code",
      "metadata": {
        "id": "aUaRY8RtOQv0",
        "colab_type": "code",
        "colab": {
          "base_uri": "https://localhost:8080/",
          "height": 34
        },
        "outputId": "728ca900-ab87-490b-c57d-cf4419174976"
      },
      "source": [
        "def test_value():\n",
        "    q = TabularQ([0,1,2,3], ['b','c'])\n",
        "    q.set(0, 'b', 5)\n",
        "    q.set(0, 'c', 10)\n",
        "    assert(value(q, 0) == 10)\n",
        "    print(\"Test passed!\")\n",
        "    \n",
        "test_value()"
      ],
      "execution_count": 15,
      "outputs": [
        {
          "output_type": "stream",
          "text": [
            "Test passed!\n"
          ],
          "name": "stdout"
        }
      ]
    },
    {
      "cell_type": "markdown",
      "metadata": {
        "id": "xAkLsRdMhj5U",
        "colab_type": "text"
      },
      "source": [
        "2. Write the `greedy` method, which takes a $Q$ function (an instance of `TabularQ`) and a state and returns the action `a` determined by the policy that acts greedily with respect to the current value of `q`."
      ]
    },
    {
      "cell_type": "code",
      "metadata": {
        "id": "o-0-YCiVhrq6",
        "colab_type": "code",
        "colab": {}
      },
      "source": [
        "def greedy(q, s):\n",
        "    \"\"\" Return pi*(s) based on a greedy strategy.\n",
        "\n",
        "    >>> q = TabularQ([0,1,2,3],['b','c'])\n",
        "    >>> q.set(0, 'b', 5)\n",
        "    >>> q.set(0, 'c', 10)\n",
        "    >>> q.set(1, 'b', 2)\n",
        "    >>> greedy(q, 0)\n",
        "    'c'\n",
        "    >>> greedy(q, 1)\n",
        "    'b'\n",
        "    \"\"\"\n",
        "    # Your code here\n",
        "    return argmax(q.actions, lambda a: q.get(s, a))\n"
      ],
      "execution_count": 0,
      "outputs": []
    },
    {
      "cell_type": "code",
      "metadata": {
        "id": "X5SlyiDuOb4n",
        "colab_type": "code",
        "colab": {
          "base_uri": "https://localhost:8080/",
          "height": 34
        },
        "outputId": "713ffc27-1fc0-4dfd-b02a-7c0e1caa64c6"
      },
      "source": [
        "def test_greedy():\n",
        "    q = TabularQ([0, 1, 2, 3],['b', 'c'])\n",
        "    q.set(0, 'b', 5)\n",
        "    q.set(0, 'c', 10)\n",
        "    q.set(1, 'b', 2)\n",
        "    assert(greedy(q, 0) == 'c')\n",
        "    assert(greedy(q, 1) == 'b')\n",
        "    print(\"Test passed!\")\n",
        "\n",
        "test_greedy()"
      ],
      "execution_count": 17,
      "outputs": [
        {
          "output_type": "stream",
          "text": [
            "Test passed!\n"
          ],
          "name": "stdout"
        }
      ]
    },
    {
      "cell_type": "markdown",
      "metadata": {
        "id": "EM4maWSahr-F",
        "colab_type": "text"
      },
      "source": [
        "3. Write the `epsilon_greedy` method, which takes a state `s` and a parameter `epsilon`, and returns an action. With probability `1 - epsilon` it should select the greedy action and with probability `epsilon` it should select an action uniformly from the set of possible actions.\n",
        "\n",
        "    - You should use `random.random()` to generate a random number to test againts eps.\n",
        "    - You should use the `draw` method of `uniform_dist` to generate a random action.\n",
        "    - You can use the `greedy` function defined earlier."
      ]
    },
    {
      "cell_type": "code",
      "metadata": {
        "id": "bTNz9DmwiEpJ",
        "colab_type": "code",
        "colab": {}
      },
      "source": [
        "def epsilon_greedy(q, s, eps = 0.5):\n",
        "    \"\"\" Returns an action.\n",
        "\n",
        "    >>> q = TabularQ([0,1,2,3],['b','c'])\n",
        "    >>> q.set(0, 'b', 5)\n",
        "    >>> q.set(0, 'c', 10)\n",
        "    >>> q.set(1, 'b', 2)\n",
        "    >>> eps = 0.\n",
        "    >>> epsilon_greedy(q, 0, eps) #greedy\n",
        "    'c'\n",
        "    >>> epsilon_greedy(q, 1, eps) #greedy\n",
        "    'b'\n",
        "    \"\"\"\n",
        "    if random.random() < eps:  # True with prob eps, random action\n",
        "        return uniform_dist(q.actions).draw()\n",
        "    else:                   # False with prob 1-eps, greedy action\n",
        "        return greedy(q, s)\n"
      ],
      "execution_count": 0,
      "outputs": []
    },
    {
      "cell_type": "code",
      "metadata": {
        "id": "jXjStECQOqiR",
        "colab_type": "code",
        "colab": {
          "base_uri": "https://localhost:8080/",
          "height": 34
        },
        "outputId": "f1e646b3-200d-4653-b845-42e442ec7e23"
      },
      "source": [
        "def test_epsilon_greedy():\n",
        "    q = TabularQ([0, 1, 2, 3],['b', 'c'])\n",
        "    q.set(0, 'b', 5)\n",
        "    q.set(0, 'c', 10)\n",
        "    q.set(1, 'b', 2)\n",
        "    eps = 0.0\n",
        "    assert(epsilon_greedy(q, 0, eps) == 'c')\n",
        "    assert(epsilon_greedy(q, 1, eps) == 'b')\n",
        "    print(\"Test passed!\")\n",
        "    \n",
        "test_epsilon_greedy()"
      ],
      "execution_count": 19,
      "outputs": [
        {
          "output_type": "stream",
          "text": [
            "Test passed!\n"
          ],
          "name": "stdout"
        }
      ]
    },
    {
      "cell_type": "markdown",
      "metadata": {
        "id": "D0FimoqLiJQ_",
        "colab_type": "text"
      },
      "source": [
        "### 5.2 Implement Q-Value Iteration\n",
        "Provide the definition of the `value_iteration` function. It takes an MDP instance and a `TabularQ` instance. It should terminate when\n",
        "\n",
        "$$\\max_{(s, a)}\\left|Q_t(s, a) - Q_{t-1}(s, a)\\right| < \\epsilon$$\n",
        "\n",
        "that is, the biggest difference between the value functions on successive iterations is less than input parameter `eps`. This function should return the final `TabularQ` instance. It should do no more that `max_iters` iterations.\n",
        "\n",
        "* Make sure to copy the Q function between iterations, e.g. `new_q = q.copy()`.\n",
        "* The `q` parameter contains the initialization of the Q function.\n",
        "* The `value` function is already defined."
      ]
    },
    {
      "cell_type": "code",
      "metadata": {
        "colab_type": "code",
        "id": "WvvczSHijES5",
        "colab": {}
      },
      "source": [
        "def value_iteration(mdp, q, eps=0.01, max_iters=1000):\n",
        "    # Your code here\n",
        "    def v(s):\n",
        "        return value(q,s)\n",
        "    for it in range(max_iters):\n",
        "        new_q = q.copy()\n",
        "        delta = 0\n",
        "        for s in mdp.states:\n",
        "            for a in mdp.actions:\n",
        "                new_q.set(s, a, mdp.reward_fn(s, a) + mdp.discount_factor * \\\n",
        "                          mdp.transition_model(s, a).expectation(v))\n",
        "                delta = max(delta, abs(new_q.get(s, a) - q.get(s, a)))\n",
        "        if delta < eps:\n",
        "            return new_q\n",
        "        q = new_q\n",
        "    return q\n",
        "      "
      ],
      "execution_count": 0,
      "outputs": []
    },
    {
      "cell_type": "markdown",
      "metadata": {
        "id": "KBYHRzz-_Q_-",
        "colab_type": "text"
      },
      "source": [
        "Below is the implementation of the \"tiny\" MDP detailed in Problem 2 and Problem 5.3. We will be using it to test `value_iteration`."
      ]
    },
    {
      "cell_type": "code",
      "metadata": {
        "id": "pRO8Zf47_Qm0",
        "colab_type": "code",
        "colab": {
          "base_uri": "https://localhost:8080/",
          "height": 174
        },
        "outputId": "6d653363-17c2-4c03-ce59-33ee14b26618"
      },
      "source": [
        "def tiny_reward(s, a):\n",
        "    # Reward function\n",
        "    if s == 1: return 1\n",
        "    elif s == 3: return 2\n",
        "    else: return 0\n",
        "\n",
        "def tiny_transition(s, a):\n",
        "    # Transition function\n",
        "    if s == 0:\n",
        "        if a == 'b':\n",
        "            return DDist({1 : 0.9, 2 : 0.1})\n",
        "        else:\n",
        "            return DDist({1 : 0.1, 2 : 0.9})\n",
        "    elif s == 1:\n",
        "        return DDist({1 : 0.1, 0 : 0.9})\n",
        "    elif s == 2:\n",
        "        return DDist({2 : 0.1, 3 : 0.9})\n",
        "    elif s == 3:\n",
        "        return DDist({3 : 0.1, 0 : 0.9})\n",
        "    \n",
        "def test_value_iteration():\n",
        "    tiny = MDP([0, 1, 2, 3], ['b', 'c'], tiny_transition, tiny_reward, 0.9)\n",
        "    q = TabularQ(tiny.states, tiny.actions)\n",
        "    qvi = value_iteration(tiny, q, eps=0.1, max_iters=100)\n",
        "    expected = dict([((2, 'b'), 5.962924188028282),\n",
        "                     ((1, 'c'), 5.6957634856549095),\n",
        "                     ((1, 'b'), 5.6957634856549095),\n",
        "                     ((0, 'b'), 5.072814297918393),\n",
        "                     ((0, 'c'), 5.262109602844769),\n",
        "                     ((3, 'b'), 6.794664584556008),\n",
        "                     ((3, 'c'), 6.794664584556008),\n",
        "                     ((2, 'c'), 5.962924188028282)])\n",
        "    for k in qvi.q:\n",
        "        print(\"k=%s, expected=%s, got=%s\" % (k, expected[k], qvi.q[k]))      \n",
        "        assert(abs(qvi.q[k] - expected[k]) < 1.0e-5)\n",
        "    print(\"Test passed!\")\n",
        "\n",
        "test_value_iteration()"
      ],
      "execution_count": 21,
      "outputs": [
        {
          "output_type": "stream",
          "text": [
            "k=(0, 'b'), expected=5.072814297918393, got=5.072814297918393\n",
            "k=(0, 'c'), expected=5.262109602844769, got=5.262109602844769\n",
            "k=(1, 'b'), expected=5.6957634856549095, got=5.6957634856549095\n",
            "k=(1, 'c'), expected=5.6957634856549095, got=5.6957634856549095\n",
            "k=(2, 'b'), expected=5.962924188028282, got=5.962924188028282\n",
            "k=(2, 'c'), expected=5.962924188028282, got=5.962924188028282\n",
            "k=(3, 'b'), expected=6.794664584556008, got=6.794664584556008\n",
            "k=(3, 'c'), expected=6.794664584556008, got=6.794664584556008\n",
            "Test passed!\n"
          ],
          "name": "stdout"
        }
      ]
    },
    {
      "cell_type": "markdown",
      "metadata": {
        "id": "mpxPhBqijE6e",
        "colab_type": "text"
      },
      "source": [
        "### 5.3 Receding-horizon control and online search\n",
        "Write a procedure `q_em(mdp, s, a, h)` that computes the horizon-h Q value for state `s` and action `a` by using the definition of the finite-horizon Q function in the notes (but including a discount factor). \n",
        "\n",
        "This can be written as a relatively simple recursive procedure with a base case (what is the Q value when horizon is 0?) and a recursive case that computes the horizon `h` values assuming we can (recursively) get horizon `h-1` values."
      ]
    },
    {
      "cell_type": "code",
      "metadata": {
        "id": "M5qsQ-vVjco9",
        "colab_type": "code",
        "colab": {}
      },
      "source": [
        "def q_em(mdp, s, a, h):\n",
        "    # Your code here\n",
        "    if h == 0:\n",
        "        return 0\n",
        "    \n",
        "    return mdp.reward_fn(s, a) + mdp.discount_factor * mdp.transition_model(s, a).expectation(lambda x: max(q_em(mdp, x, a, h-1) for a in mdp.actions))\n",
        "\n",
        "# OR\n",
        "def q_em(mdp, s, a, h):\n",
        "    if h == 0:\n",
        "        return 0\n",
        "    else:\n",
        "        return mdp.reward_fn(s, a) + \\\n",
        "            mdp.discount_factor * \\\n",
        "            sum([p*max([q_em(mdp, sp, ap, h-1) for ap in mdp.actions]) \\\n",
        "                for (sp, p) in mdp.transition_model(s, a).getAllProbs()])"
      ],
      "execution_count": 0,
      "outputs": []
    },
    {
      "cell_type": "markdown",
      "metadata": {
        "id": "7pgEI65qLKKQ",
        "colab_type": "text"
      },
      "source": [
        "We will be using the \"tiny\" MDP again to test `q_em`."
      ]
    },
    {
      "cell_type": "code",
      "metadata": {
        "id": "9i3X0Q_v-3Vo",
        "colab_type": "code",
        "colab": {
          "base_uri": "https://localhost:8080/",
          "height": 34
        },
        "outputId": "8da5b82f-f85b-4473-ac47-3d07005da848"
      },
      "source": [
        "def test_q_em():\n",
        "    tiny = MDP([0, 1, 2, 3], ['b', 'c'], tiny_transition, tiny_reward, 0.9)\n",
        "    assert(np.allclose([q_em(tiny, 0, 'b', 1)], [0.0]))\n",
        "    assert(np.allclose([q_em(tiny, 0, 'b', 2)], [0.81]))\n",
        "    assert(np.allclose([q_em(tiny, 0, 'b', 3)], [1.0287000000000002]))\n",
        "    assert(np.allclose([q_em(tiny, 0, 'c', 3)], [1.4103]))\n",
        "    assert(np.allclose([q_em(tiny, 2, 'b', 3)], [1.9116000000000002]))\n",
        "    print(\"Tests passed!\")\n",
        "\n",
        "test_q_em()"
      ],
      "execution_count": 28,
      "outputs": [
        {
          "output_type": "stream",
          "text": [
            "Tests passed!\n"
          ],
          "name": "stdout"
        }
      ]
    },
    {
      "cell_type": "code",
      "metadata": {
        "id": "BqM-JTToqOEI",
        "colab_type": "code",
        "colab": {
          "base_uri": "https://localhost:8080/",
          "height": 157
        },
        "outputId": "e4824e71-d6fd-4dcb-b333-77018b19c56c"
      },
      "source": [
        "# Sol to exo\n",
        "\n",
        "arr = np.array([[0.0, 0.9, 0.0, 0.9],   [0.1, 0.1, 0.0, 0.0],   [0.9, 0.0, 0.1, 0.0],   [0.0, 0.0, 0.9, 0.1]]).T\n",
        "print(arr)\n",
        "a = 0.9*arr\n",
        "a.tolist()\n",
        "\n",
        "id = -1*np.identity(4)\n",
        "print(id)\n",
        "\n",
        "A = a.tolist() + id\n",
        "b = -np.array([[0, 1, 0, 2]]).T"
      ],
      "execution_count": 50,
      "outputs": [
        {
          "output_type": "stream",
          "text": [
            "[[0.  0.1 0.9 0. ]\n",
            " [0.9 0.1 0.  0. ]\n",
            " [0.  0.  0.1 0.9]\n",
            " [0.9 0.  0.  0.1]]\n",
            "[[-1. -0. -0. -0.]\n",
            " [-0. -1. -0. -0.]\n",
            " [-0. -0. -1. -0.]\n",
            " [-0. -0. -0. -1.]]\n"
          ],
          "name": "stdout"
        }
      ]
    },
    {
      "cell_type": "code",
      "metadata": {
        "id": "64CVT_xsgMJf",
        "colab_type": "code",
        "colab": {
          "base_uri": "https://localhost:8080/",
          "height": 34
        },
        "outputId": "9fd88752-982b-4f78-8b6f-16daba766fd7"
      },
      "source": [
        "0.9*0.9*0.2"
      ],
      "execution_count": 57,
      "outputs": [
        {
          "output_type": "execute_result",
          "data": {
            "text/plain": [
              "0.16200000000000003"
            ]
          },
          "metadata": {
            "tags": []
          },
          "execution_count": 57
        }
      ]
    },
    {
      "cell_type": "code",
      "metadata": {
        "id": "duxK6dh1hIAF",
        "colab_type": "code",
        "colab": {}
      },
      "source": [
        "t = np.array([\n",
        " [0.9 * 1.09 + 0.1 * 1.62],\n",
        " [0.1 * 1.09 + 0.9 * 1.62],\n",
        " [0.9 * 0.81 + 0.1 * 1.09],\n",
        " [0.1 * 1.62 + 0.9 * 2.18],\n",
        " [0.9 * 0.81 + 0.1 * 2.18]])"
      ],
      "execution_count": 0,
      "outputs": []
    },
    {
      "cell_type": "code",
      "metadata": {
        "id": "Km8MQ5IaoDQm",
        "colab_type": "code",
        "colab": {
          "base_uri": "https://localhost:8080/",
          "height": 104
        },
        "outputId": "7bb23614-89c9-4657-a8e7-f8f826260767"
      },
      "source": [
        "np.array([[0],[0],[1],[0],[2]]) + 0.9*t"
      ],
      "execution_count": 64,
      "outputs": [
        {
          "output_type": "execute_result",
          "data": {
            "text/plain": [
              "array([[1.0287],\n",
              "       [1.4103],\n",
              "       [1.7542],\n",
              "       [1.9116],\n",
              "       [2.8523]])"
            ]
          },
          "metadata": {
            "tags": []
          },
          "execution_count": 64
        }
      ]
    },
    {
      "cell_type": "code",
      "metadata": {
        "id": "9bmMC68SoRXz",
        "colab_type": "code",
        "colab": {}
      },
      "source": [
        ""
      ],
      "execution_count": 0,
      "outputs": []
    }
  ]
}