{
  "nbformat": 4,
  "nbformat_minor": 0,
  "metadata": {
    "colab": {
      "name": "MIT 6.036 Lab04.ipynb",
      "provenance": [],
      "collapsed_sections": [],
      "include_colab_link": true
    },
    "kernelspec": {
      "name": "python3",
      "display_name": "Python 3"
    }
  },
  "cells": [
    {
      "cell_type": "markdown",
      "metadata": {
        "id": "view-in-github",
        "colab_type": "text"
      },
      "source": [
        "<a href=\"https://colab.research.google.com/github/ToniRV/MIT_6.862_Applied_Machine_Learning/blob/master/MIT_6_036_Lab04.ipynb\" target=\"_parent\"><img src=\"https://colab.research.google.com/assets/colab-badge.svg\" alt=\"Open In Colab\"/></a>"
      ]
    },
    {
      "cell_type": "markdown",
      "metadata": {
        "id": "DZzRzHY3ffxD",
        "colab_type": "text"
      },
      "source": [
        "#MIT 6.036 Spring 2020: Lab 4#\n",
        "\n",
        "This colab notebook provides code for problem 3 of Lab 4"
      ]
    },
    {
      "cell_type": "code",
      "metadata": {
        "id": "Cu_wg1LXp70h",
        "colab_type": "code",
        "colab": {}
      },
      "source": [
        "!rm -rf code_and_data_for_lab4*\n",
        "!wget --quiet https://introml.odl.mit.edu/cat-soop/_static/6.036/labs/lab04/code_and_data_for_lab4.zip\n",
        "!unzip code_and_data_for_lab4.zip\n",
        "!mv code_and_data_for_lab4/* .\n",
        "  \n",
        "from load_weights_and_print import *\n",
        "import numpy as np"
      ],
      "execution_count": 0,
      "outputs": []
    },
    {
      "cell_type": "markdown",
      "metadata": {
        "id": "RrDJNhN0eX0O",
        "colab_type": "text"
      },
      "source": [
        "## <section>**Food Weights**</section>\n",
        "In this part, you will be thinking about the nature of the models that logistic regression produces, especially as it relates to bias (and more broadly, ethics). Recall the food reviews dataset from <a href=https://lms.mitx.mit.edu/courses/course-v1:MITx+6.036+2020_Spring/courseware/Week3/week3_homework/1>Week 3 Homework</a>. The code for this question creates a bag-of-words representation for each review, then trains a logistic regression model. It then prints out the weights associated with certain words.\n",
        "\n",
        "Investigate the weights of the words printed out. What do you notice? Try out other words by changing the list of words passed in. Consider trying words from this list; do the weights match your expectations of what they should be like?\n",
        "\n",
        "[“yummy”, “Indian”, “Mexican”, “Chinese”, “European”, “gross\"]"
      ]
    },
    {
      "cell_type": "code",
      "metadata": {
        "id": "Uj1hP6fetGAH",
        "colab_type": "code",
        "colab": {}
      },
      "source": [
        "WORDS = [\"yummy\", \"indian\", \"mexican\", \"italian\", \"chinese\", \"european\", \"gross\"]\n",
        "pretty_print(get_weights(WORDS))"
      ],
      "execution_count": 0,
      "outputs": []
    }
  ]
}