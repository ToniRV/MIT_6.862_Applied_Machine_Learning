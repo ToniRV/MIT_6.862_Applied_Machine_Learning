{
  "nbformat": 4,
  "nbformat_minor": 0,
  "metadata": {
    "colab": {
      "name": "MIT 6.036 HW07 - PyTorch",
      "provenance": [],
      "collapsed_sections": [],
      "include_colab_link": true
    },
    "kernelspec": {
      "name": "python3",
      "display_name": "Python 3"
    }
  },
  "cells": [
    {
      "cell_type": "markdown",
      "metadata": {
        "id": "view-in-github",
        "colab_type": "text"
      },
      "source": [
        "<a href=\"https://colab.research.google.com/github/ToniRV/MIT_6.862_Applied_Machine_Learning/blob/master/MIT_6_036_HW07_PyTorch.ipynb\" target=\"_parent\"><img src=\"https://colab.research.google.com/assets/colab-badge.svg\" alt=\"Open In Colab\"/></a>"
      ]
    },
    {
      "cell_type": "markdown",
      "metadata": {
        "id": "JWaIkcl0xwu_",
        "colab_type": "text"
      },
      "source": [
        "# MIT 6.036 Fall 2019: Homework 7 - PyTorch\n",
        "\n",
        "This colab notebook provides code and a framework for homework 7. You can work out your solutions here, then submit your results back on the homework page when ready.\n",
        "\n",
        "**Note**: You can go to `File > Save a copy in Drive...` to save your own copy of this notebook for editing.\n",
        "\n",
        "## Setup\n",
        "\n",
        "First, download the code distribution for this homework that contains test cases and helper functions. Run the next code block to download and import the code for this lab."
      ]
    },
    {
      "cell_type": "code",
      "metadata": {
        "colab_type": "code",
        "id": "POU9z7ShiOHv",
        "outputId": "21da9fbb-f24d-45d1-d66e-c7f34f1eab39",
        "colab": {
          "base_uri": "https://localhost:8080/",
          "height": 334
        }
      },
      "source": [
        "!rm -rf code_for_hw7 data\n",
        "!wget --quiet https://introml.odl.mit.edu/cat-soop/_static/6.036/homework/hw07/code_for_hw7.zip\n",
        "!unzip code_for_hw7.zip\n",
        "!mv code_for_hw7/* ."
      ],
      "execution_count": 2,
      "outputs": [
        {
          "output_type": "stream",
          "text": [
            "Archive:  code_for_hw7.zip\n",
            "   creating: code_for_hw7/\n",
            "  inflating: code_for_hw7/utils_hw7.py  \n",
            "  inflating: code_for_hw7/code_for_hw7_pytorch.py  \n",
            "  inflating: code_for_hw7/code_for_hw7.py  \n",
            "  inflating: code_for_hw7/modules_disp.py  \n",
            "   creating: code_for_hw7/data/\n",
            "  inflating: code_for_hw7/data/data2_validate.csv  \n",
            "  inflating: code_for_hw7/data/dataXor_train.csv  \n",
            "  inflating: code_for_hw7/data/data1_train.csv  \n",
            "  inflating: code_for_hw7/data/data4_train.csv  \n",
            "  inflating: code_for_hw7/data/data4_validate.csv  \n",
            "  inflating: code_for_hw7/data/data3class_train.csv  \n",
            "  inflating: code_for_hw7/data/data1_validate.csv  \n",
            "  inflating: code_for_hw7/data/data3_train.csv  \n",
            "  inflating: code_for_hw7/data/data2_train.csv  \n",
            "  inflating: code_for_hw7/data/data3_validate.csv  \n",
            "  inflating: code_for_hw7/expected_results.py  \n"
          ],
          "name": "stdout"
        }
      ]
    },
    {
      "cell_type": "markdown",
      "metadata": {
        "id": "EJQvZ_MNyEYQ",
        "colab_type": "text"
      },
      "source": [
        "# 3) 2D Datasets\n",
        "\n",
        "For the 2D datasets, we have provided the following function:\n",
        "\n",
        ">```run_pytorch_2d(data_name, layers, epochs, split=0.25, display=True, trials=5)```\n",
        "\n",
        "where:\n",
        "\n",
        "* `data_name` is a string, such as '1', '2', etc. \n",
        "* `layers` is a list of torch.nn layer definitions for a Sequential model, e.g.\n",
        "> ```[Linear(in_features=2, out_features=classes, bias=True), Softmax(dim=-1)]```\n",
        "* `epochs` is an integer indicating how many times to go through the data in training \n",
        "* `split` is a fraction of the training data to use for validation if a validation set is not defined \n",
        "* `display` whether to display result plots \n",
        "* `verbose` whether to print loss and accuracy (percent correctly labeled) each epoch \n",
        "* `trials` is an integer indicating how many times to perform the training and testing \n",
        "\n",
        "The two-class datasets have `data_name`s: `'1'`,`'2'`,`'3'`,`'4'`.\n",
        "\n",
        "In this problem, try the following 5 architectures, specified by the number of units in the hidden layers:\n",
        "\n",
        "`0: (), 1: (10), 2: (100), 3: (10, 10), 4: (100, 100)`\n",
        "\n",
        "You may find the `archs` function below to be helpful here. Some of these questions ask for the \"simplest\" architecture; the list above is ordered starting with the simplest."
      ]
    },
    {
      "cell_type": "markdown",
      "metadata": {
        "id": "eciSdje5J5vV",
        "colab_type": "text"
      },
      "source": [
        "## Helper Functions\n",
        "\n",
        "The following functions will train a neural network in PyTorch. You do not need to edit them but please try to go through them. There is a **Playground** section below that shows how to run these methods for the homework."
      ]
    },
    {
      "cell_type": "code",
      "metadata": {
        "id": "eIkE7hqmgE1c",
        "colab_type": "code",
        "colab": {}
      },
      "source": [
        "from utils_hw7 import plot_heat, get_data_loader, model_fit, model_evaluate, run_pytorch, dataset_paths"
      ],
      "execution_count": 0,
      "outputs": []
    },
    {
      "cell_type": "code",
      "metadata": {
        "id": "U34tpL0QK96Q",
        "colab_type": "code",
        "colab": {}
      },
      "source": [
        "import numpy as np\n",
        "import itertools\n",
        "import math as m\n",
        "from matplotlib import pyplot as plt"
      ],
      "execution_count": 0,
      "outputs": []
    },
    {
      "cell_type": "code",
      "metadata": {
        "id": "gaY64c3h6Hd0",
        "colab_type": "code",
        "colab": {}
      },
      "source": [
        "import torch\n",
        "from torch.nn import Linear, ReLU, Softmax, Sequential, CrossEntropyLoss\n",
        "from torch.optim import Adam\n",
        "from torch.utils.data import DataLoader, TensorDataset\n",
        "\n",
        "\n",
        "######################################################################\n",
        "# Problem 3 - 2D data\n",
        "######################################################################\n",
        "\n",
        "def archs(classes):\n",
        "    return {0: [Linear(in_features=2, out_features=classes, bias=True),\n",
        "             Softmax(dim=-1)],\n",
        "            \n",
        "            1: [Linear(in_features=2, out_features=10, bias=True),\n",
        "             ReLU(),\n",
        "             Linear(in_features=10, out_features=classes, bias=True),\n",
        "             Softmax(dim=-1)],\n",
        "\n",
        "            2: [Linear(in_features=2, out_features=100, bias=True),\n",
        "             ReLU(),\n",
        "             Linear(in_features=100, out_features=classes, bias=True),\n",
        "             Softmax(dim=-1)],\n",
        "            \n",
        "            3: [Linear(in_features=2, out_features=10, bias=True),\n",
        "             ReLU(),\n",
        "             Linear(in_features=10, out_features=10, bias=True),\n",
        "             ReLU(),\n",
        "             Linear(in_features=10, out_features=classes, bias=True),\n",
        "             Softmax(dim=-1)],\n",
        "\n",
        "            4: [Linear(in_features=2, out_features=100, bias=True),\n",
        "             ReLU(),\n",
        "             Linear(in_features=100, out_features=100, bias=True),\n",
        "             ReLU(),\n",
        "             Linear(in_features=100, out_features=classes, bias=True),\n",
        "             Softmax(dim=-1)]\n",
        "           }\n",
        "\n"
      ],
      "execution_count": 0,
      "outputs": []
    },
    {
      "cell_type": "code",
      "metadata": {
        "id": "Poe-4fk7Gop7",
        "colab_type": "code",
        "colab": {}
      },
      "source": [
        "\"\"\"\n",
        "This function is also in utils_hw7.\n",
        "We write it here just to bring it to your attention.\n",
        "Please try to go through it.\n",
        "\"\"\"\n",
        "\n",
        "def call_model(mode, model, data_iter, optimizer, criterion):\n",
        "    epoch_loss = []\n",
        "    hits = []\n",
        "    items = []\n",
        "    \n",
        "    if mode == 'train':\n",
        "        model.train()\n",
        "        grad_mode = torch.enable_grad()\n",
        "    else:\n",
        "        model.eval()\n",
        "        grad_mode = torch.no_grad()\n",
        "\n",
        "    with grad_mode:\n",
        "\n",
        "        for batch in data_iter:\n",
        "            X, y = batch.X, batch.y\n",
        "\n",
        "            if mode == 'train':\n",
        "                # zero the parameter gradients\n",
        "                optimizer.zero_grad()\n",
        "\n",
        "            # forward\n",
        "            y_hat = model(X)\n",
        "            batch_loss = criterion(y_hat, y.long())\n",
        "\n",
        "            if mode == 'train':\n",
        "                # backward + optimize\n",
        "                batch_loss.backward()\n",
        "                optimizer.step()\n",
        "\n",
        "            epoch_loss.append(batch_loss.item())\n",
        "            hits.append((y_hat.argmax(1) == y).sum())\n",
        "            items.append(X.shape[0])\n",
        "\n",
        "        loss = np.sum(epoch_loss)/np.sum(items)\n",
        "        acc_score = np.sum(hits)/np.sum(items)\n",
        "        return loss, acc_score"
      ],
      "execution_count": 0,
      "outputs": []
    },
    {
      "cell_type": "code",
      "metadata": {
        "id": "Azz2Ou-i98Ui",
        "colab_type": "code",
        "colab": {}
      },
      "source": [
        "\"\"\"\n",
        "This function is also in utils_hw7.\n",
        "We write it here just to bring it to your attention because\n",
        "you'll be running (but not modifying) this function for this\n",
        "homework.\n",
        "Please try to go through it.\n",
        "\"\"\"\n",
        "\n",
        "def run_pytorch_2d(data_name, layers, epochs, split=0.25, display=True,\n",
        "                   verbose=True, trials=1, batch_size=32):\n",
        "    print('Pytorch FC: dataset=', data_name)\n",
        "    (train_dataset_path, val_dataset_path, test_dataset_path) = dataset_paths(data_name)\n",
        "    # Load the datasets\n",
        "    train_iter, num_classes = get_data_loader(train_dataset_path, batch_size)\n",
        "    val_iter, num_classes = get_data_loader(val_dataset_path, batch_size)\n",
        "    test_iter, num_classes = get_data_loader(test_dataset_path, batch_size)\n",
        "    \n",
        "    if val_iter is None:\n",
        "        # Use split\n",
        "        print(\"Use split\", train_iter)\n",
        "        assert split > 0, '`split` must be > 0'\n",
        "        train_iter, val_iter,  num_classes = get_data_loader(train_dataset_path, batch_size, split)\n",
        "\n",
        "    val_acc, test_acc = 0, 0\n",
        "    X_train = torch.cat([batch.X for batch in train_iter], 0)\n",
        "    y_train = torch.cat([batch.y for batch in train_iter], 0)\n",
        "    \n",
        "    for trial in range(trials):\n",
        "        trial_history = {'epoch_loss': [], 'epoch_val_loss': [],\n",
        "               'epoch_acc': [], 'epoch_val_acc': []}\n",
        "    \n",
        "        if verbose: print(\"\\n\")\n",
        "        print(f'# Trial {trial}')\n",
        "        \n",
        "        # Run the model\n",
        "        model, vacc, tacc, = run_pytorch(train_iter, val_iter, test_iter, \n",
        "                                         layers, epochs, split=split,\n",
        "                                         verbose=verbose, history=trial_history)\n",
        "\n",
        "        val_acc += vacc if vacc else 0\n",
        "        test_acc += tacc if tacc else 0\n",
        "        if display:\n",
        "            # plot classifier landscape on training data\n",
        "            plot_heat(X_train, y_train, model)\n",
        "            plt.title('Training data')\n",
        "            plt.show()\n",
        "            if test_iter is not None:\n",
        "                # plot classifier landscape on testing data\n",
        "                X_test = torch.cat([batch.X for batch in test_iter], 0)\n",
        "                y_test = torch.cat([batch.y for batch in test_iter], 0)\n",
        "                plot_heat(X_test, y_test, model)\n",
        "                plt.title('Testing data')\n",
        "                plt.show()\n",
        "            # Plot epoch loss\n",
        "            plt.figure(facecolor=\"white\")\n",
        "            plt.plot(range(epochs), trial_history['epoch_loss'], label='epoch_train_loss')\n",
        "            plt.plot(range(epochs), trial_history['epoch_val_loss'], label='epoch_val_loss')\n",
        "            plt.xlabel('epoch')\n",
        "            plt.ylabel('loss')\n",
        "            plt.title('Epoch val_loss and loss')\n",
        "            plt.legend()\n",
        "            plt.show()\n",
        "            # Plot epoch accuracy\n",
        "            plt.figure(facecolor=\"white\")\n",
        "            plt.plot(range(epochs), trial_history['epoch_acc'], label='epoch_train_acc')\n",
        "            plt.plot(range(epochs), trial_history['epoch_val_acc'], label='epoch_val_acc')\n",
        "            plt.xlabel('epoch')\n",
        "            plt.ylabel('accuracy')\n",
        "            plt.legend()\n",
        "            plt.title('Epoch val_acc and acc')\n",
        "            plt.show()\n",
        "    if val_acc:\n",
        "        print (\"\\nAvg. validation accuracy:\"  + str(val_acc/trials))\n",
        "    if test_acc:\n",
        "        print (\"\\nAvg. test accuracy:\"  + str(test_acc/trials))\n",
        "        \n",
        "   \n",
        "    return X_train, y_train, model"
      ],
      "execution_count": 0,
      "outputs": []
    },
    {
      "cell_type": "markdown",
      "metadata": {
        "id": "YUbidWYsqmDl",
        "colab_type": "text"
      },
      "source": [
        "## 3G)"
      ]
    },
    {
      "cell_type": "code",
      "metadata": {
        "id": "YvqJbk8dqk_o",
        "colab_type": "code",
        "colab": {}
      },
      "source": [
        "points = np.array([[-1,0], [1,0], [0,-11], [0,1], [-1,-1], [-1,1], [1,1], [1,-1]])\n",
        "\n",
        "deterministic = True\n",
        "if deterministic:\n",
        "  torch.manual_seed(10)\n",
        "  torch.backends.cudnn.deterministic = True\n",
        "  torch.backends.cudnn.benchmark = False\n",
        "  np.random.seed(10)\n",
        "\n",
        "\"\"\"\n",
        "HERE YOUR CODE!!\n",
        "\"\"\"\n",
        "pass"
      ],
      "execution_count": 0,
      "outputs": []
    },
    {
      "cell_type": "markdown",
      "metadata": {
        "id": "wnjuKTJXExBZ",
        "colab_type": "text"
      },
      "source": [
        "# Playground"
      ]
    },
    {
      "cell_type": "code",
      "metadata": {
        "id": "rS_q9fYj8uyI",
        "colab_type": "code",
        "colab": {
          "base_uri": "https://localhost:8080/",
          "height": 992
        },
        "outputId": "111a190f-d311-4f48-de45-61d5a5dfdcf5"
      },
      "source": [
        "_ = run_pytorch_2d(\"2\", archs(2)[4], 120, display=True, verbose=False, trials=1)"
      ],
      "execution_count": 48,
      "outputs": [
        {
          "output_type": "stream",
          "text": [
            "Pytorch FC: dataset= 2\n",
            "Convert from -1,1 to 0,1\n",
            "Loading X torch.Size([400, 2]) y torch.Size([400]) classes {0.0, 1.0}\n",
            "Convert from -1,1 to 0,1\n",
            "Loading X torch.Size([200, 2]) y torch.Size([200]) classes {0.0, 1.0}\n",
            "# Trial 0\n"
          ],
          "name": "stdout"
        },
        {
          "output_type": "display_data",
          "data": {
            "image/png": "[encoded data removed]",
            "text/plain": [
              "<Figure size 432x288 with 2 Axes>"
            ]
          },
          "metadata": {
            "tags": []
          }
        },
        {
          "output_type": "display_data",
          "data": {
            "image/png": "[encoded data removed]",
            "text/plain": [
              "<Figure size 432x288 with 1 Axes>"
            ]
          },
          "metadata": {
            "tags": []
          }
        },
        {
          "output_type": "display_data",
          "data": {
            "image/png": "[encoded data removed]",
            "text/plain": [
              "<Figure size 432x288 with 1 Axes>"
            ]
          },
          "metadata": {
            "tags": []
          }
        },
        {
          "output_type": "stream",
          "text": [
            "\n",
            "Avg. validation accuracy:0.8938333333333335\n"
          ],
          "name": "stdout"
        }
      ]
    },
    {
      "cell_type": "code",
      "metadata": {
        "id": "071X-ooS8uvA",
        "colab_type": "code",
        "colab": {
          "base_uri": "https://localhost:8080/",
          "height": 527
        },
        "outputId": "bc733993-73a6-419e-9605-282fdb4cd046"
      },
      "source": [
        "_ = run_pytorch_2d(\"3class\",archs(3)[0], 10, split=.5, display=False, verbose=False, trials=20)"
      ],
      "execution_count": 49,
      "outputs": [
        {
          "output_type": "stream",
          "text": [
            "Pytorch FC: dataset= 3class\n",
            "Loading X torch.Size([800, 2]) y torch.Size([800]) classes {0.0, 1.0, 2.0}\n",
            "Use split <torch.utils.data.dataloader.DataLoader object at 0x7feaf81f44e0>\n",
            "Using validation split\n",
            "train_size 400 val_size 400\n",
            "Loading train X torch.Size([400, 2]) y torch.Size([400]) classes {0.0, 1.0, 2.0}\n",
            "Loading val X torch.Size([400, 2]) y torch.Size([400]) classes {0.0, 1.0, 2.0}\n",
            "# Trial 0\n",
            "# Trial 1\n",
            "# Trial 2\n",
            "# Trial 3\n",
            "# Trial 4\n",
            "# Trial 5\n",
            "# Trial 6\n",
            "# Trial 7\n",
            "# Trial 8\n",
            "# Trial 9\n",
            "# Trial 10\n",
            "# Trial 11\n",
            "# Trial 12\n",
            "# Trial 13\n",
            "# Trial 14\n",
            "# Trial 15\n",
            "# Trial 16\n",
            "# Trial 17\n",
            "# Trial 18\n",
            "# Trial 19\n",
            "\n",
            "Avg. validation accuracy:0.4294124999999999\n"
          ],
          "name": "stdout"
        }
      ]
    },
    {
      "cell_type": "code",
      "metadata": {
        "id": "jVqZozVZSBB7",
        "colab_type": "code",
        "colab": {
          "base_uri": "https://localhost:8080/",
          "height": 527
        },
        "outputId": "045c5dde-ebd7-495f-9b12-7c74086830bc"
      },
      "source": [
        "_ = run_pytorch_2d(\"3class\",archs(3)[0], 10, split=.5, display=False, verbose=False, trials=20)\n"
      ],
      "execution_count": 50,
      "outputs": [
        {
          "output_type": "stream",
          "text": [
            "Pytorch FC: dataset= 3class\n",
            "Loading X torch.Size([800, 2]) y torch.Size([800]) classes {0.0, 1.0, 2.0}\n",
            "Use split <torch.utils.data.dataloader.DataLoader object at 0x7feaf81f4588>\n",
            "Using validation split\n",
            "train_size 400 val_size 400\n",
            "Loading train X torch.Size([400, 2]) y torch.Size([400]) classes {0.0, 1.0, 2.0}\n",
            "Loading val X torch.Size([400, 2]) y torch.Size([400]) classes {0.0, 1.0, 2.0}\n",
            "# Trial 0\n",
            "# Trial 1\n",
            "# Trial 2\n",
            "# Trial 3\n",
            "# Trial 4\n",
            "# Trial 5\n",
            "# Trial 6\n",
            "# Trial 7\n",
            "# Trial 8\n",
            "# Trial 9\n",
            "# Trial 10\n",
            "# Trial 11\n",
            "# Trial 12\n",
            "# Trial 13\n",
            "# Trial 14\n",
            "# Trial 15\n",
            "# Trial 16\n",
            "# Trial 17\n",
            "# Trial 18\n",
            "# Trial 19\n",
            "\n",
            "Avg. validation accuracy:0.45755\n"
          ],
          "name": "stdout"
        }
      ]
    },
    {
      "cell_type": "code",
      "metadata": {
        "id": "aPmXMaGCT2Fk",
        "colab_type": "code",
        "colab": {
          "base_uri": "https://localhost:8080/",
          "height": 527
        },
        "outputId": "8e5d0ed4-9113-4a7a-9507-f138d7a35b59"
      },
      "source": [
        "\n",
        "_ = run_pytorch_2d(\"3class\",archs(3)[1], 10, split=.5, display=False, verbose=False, trials=20)"
      ],
      "execution_count": 51,
      "outputs": [
        {
          "output_type": "stream",
          "text": [
            "Pytorch FC: dataset= 3class\n",
            "Loading X torch.Size([800, 2]) y torch.Size([800]) classes {0.0, 1.0, 2.0}\n",
            "Use split <torch.utils.data.dataloader.DataLoader object at 0x7feaf81f40f0>\n",
            "Using validation split\n",
            "train_size 400 val_size 400\n",
            "Loading train X torch.Size([400, 2]) y torch.Size([400]) classes {0.0, 1.0, 2.0}\n",
            "Loading val X torch.Size([400, 2]) y torch.Size([400]) classes {0.0, 1.0, 2.0}\n",
            "# Trial 0\n",
            "# Trial 1\n",
            "# Trial 2\n",
            "# Trial 3\n",
            "# Trial 4\n",
            "# Trial 5\n",
            "# Trial 6\n",
            "# Trial 7\n",
            "# Trial 8\n",
            "# Trial 9\n",
            "# Trial 10\n",
            "# Trial 11\n",
            "# Trial 12\n",
            "# Trial 13\n",
            "# Trial 14\n",
            "# Trial 15\n",
            "# Trial 16\n",
            "# Trial 17\n",
            "# Trial 18\n",
            "# Trial 19\n",
            "\n",
            "Avg. validation accuracy:0.5825375\n"
          ],
          "name": "stdout"
        }
      ]
    },
    {
      "cell_type": "code",
      "metadata": {
        "id": "XbMG5IYGT3GA",
        "colab_type": "code",
        "colab": {
          "base_uri": "https://localhost:8080/",
          "height": 527
        },
        "outputId": "392879d0-d450-462e-cfb1-dcbd5531900a"
      },
      "source": [
        "\n",
        "_ = run_pytorch_2d(\"3class\",archs(3)[2], 10, split=.5, display=False, verbose=False, trials=20)"
      ],
      "execution_count": 52,
      "outputs": [
        {
          "output_type": "stream",
          "text": [
            "Pytorch FC: dataset= 3class\n",
            "Loading X torch.Size([800, 2]) y torch.Size([800]) classes {0.0, 1.0, 2.0}\n",
            "Use split <torch.utils.data.dataloader.DataLoader object at 0x7feaf81f4240>\n",
            "Using validation split\n",
            "train_size 400 val_size 400\n",
            "Loading train X torch.Size([400, 2]) y torch.Size([400]) classes {0.0, 1.0, 2.0}\n",
            "Loading val X torch.Size([400, 2]) y torch.Size([400]) classes {0.0, 1.0, 2.0}\n",
            "# Trial 0\n",
            "# Trial 1\n",
            "# Trial 2\n",
            "# Trial 3\n",
            "# Trial 4\n",
            "# Trial 5\n",
            "# Trial 6\n",
            "# Trial 7\n",
            "# Trial 8\n",
            "# Trial 9\n",
            "# Trial 10\n",
            "# Trial 11\n",
            "# Trial 12\n",
            "# Trial 13\n",
            "# Trial 14\n",
            "# Trial 15\n",
            "# Trial 16\n",
            "# Trial 17\n",
            "# Trial 18\n",
            "# Trial 19\n",
            "\n",
            "Avg. validation accuracy:0.8753125\n"
          ],
          "name": "stdout"
        }
      ]
    },
    {
      "cell_type": "code",
      "metadata": {
        "id": "fzrdlrLpT3Tz",
        "colab_type": "code",
        "colab": {
          "base_uri": "https://localhost:8080/",
          "height": 527
        },
        "outputId": "335ab19d-1a0d-4ff7-bffa-70cacc801690"
      },
      "source": [
        "\n",
        "_ = run_pytorch_2d(\"3class\",archs(3)[3], 10, split=.5, display=False, verbose=False, trials=20)"
      ],
      "execution_count": 53,
      "outputs": [
        {
          "output_type": "stream",
          "text": [
            "Pytorch FC: dataset= 3class\n",
            "Loading X torch.Size([800, 2]) y torch.Size([800]) classes {0.0, 1.0, 2.0}\n",
            "Use split <torch.utils.data.dataloader.DataLoader object at 0x7feaf52aff60>\n",
            "Using validation split\n",
            "train_size 400 val_size 400\n",
            "Loading train X torch.Size([400, 2]) y torch.Size([400]) classes {0.0, 1.0, 2.0}\n",
            "Loading val X torch.Size([400, 2]) y torch.Size([400]) classes {0.0, 1.0, 2.0}\n",
            "# Trial 0\n",
            "# Trial 1\n",
            "# Trial 2\n",
            "# Trial 3\n",
            "# Trial 4\n",
            "# Trial 5\n",
            "# Trial 6\n",
            "# Trial 7\n",
            "# Trial 8\n",
            "# Trial 9\n",
            "# Trial 10\n",
            "# Trial 11\n",
            "# Trial 12\n",
            "# Trial 13\n",
            "# Trial 14\n",
            "# Trial 15\n",
            "# Trial 16\n",
            "# Trial 17\n",
            "# Trial 18\n",
            "# Trial 19\n",
            "\n",
            "Avg. validation accuracy:0.5737125\n"
          ],
          "name": "stdout"
        }
      ]
    },
    {
      "cell_type": "code",
      "metadata": {
        "id": "SC2gRlelT3h_",
        "colab_type": "code",
        "colab": {
          "base_uri": "https://localhost:8080/",
          "height": 527
        },
        "outputId": "58f855f2-e8b8-4090-c85c-21cd151453ea"
      },
      "source": [
        "\n",
        "_ = run_pytorch_2d(\"3class\",archs(3)[4], 10, split=.5, display=False, verbose=False, trials=20)"
      ],
      "execution_count": 54,
      "outputs": [
        {
          "output_type": "stream",
          "text": [
            "Pytorch FC: dataset= 3class\n",
            "Loading X torch.Size([800, 2]) y torch.Size([800]) classes {0.0, 1.0, 2.0}\n",
            "Use split <torch.utils.data.dataloader.DataLoader object at 0x7feaf52aff60>\n",
            "Using validation split\n",
            "train_size 400 val_size 400\n",
            "Loading train X torch.Size([400, 2]) y torch.Size([400]) classes {0.0, 1.0, 2.0}\n",
            "Loading val X torch.Size([400, 2]) y torch.Size([400]) classes {0.0, 1.0, 2.0}\n",
            "# Trial 0\n",
            "# Trial 1\n",
            "# Trial 2\n",
            "# Trial 3\n",
            "# Trial 4\n",
            "# Trial 5\n",
            "# Trial 6\n",
            "# Trial 7\n",
            "# Trial 8\n",
            "# Trial 9\n",
            "# Trial 10\n",
            "# Trial 11\n",
            "# Trial 12\n",
            "# Trial 13\n",
            "# Trial 14\n",
            "# Trial 15\n",
            "# Trial 16\n",
            "# Trial 17\n",
            "# Trial 18\n",
            "# Trial 19\n",
            "\n",
            "Avg. validation accuracy:0.9419125000000002\n"
          ],
          "name": "stdout"
        }
      ]
    },
    {
      "cell_type": "code",
      "metadata": {
        "id": "5EzBq7wiT9X5",
        "colab_type": "code",
        "colab": {
          "base_uri": "https://localhost:8080/",
          "height": 318
        },
        "outputId": "06a68069-53e8-4b0e-899a-edede05f5a6d"
      },
      "source": [
        "deterministic = True\n",
        "if deterministic:\n",
        "  torch.manual_seed(10)\n",
        "  torch.backends.cudnn.deterministic = True\n",
        "  torch.backends.cudnn.benchmark = False\n",
        "  np.random.seed(10)\n",
        "\n",
        "# Train\n",
        "linear_layer = archs(3)[0]\n",
        "X_train, y_train, model = run_pytorch_2d(\"3class\",linear_layer, 10, split=.5,\n",
        "                                         display=False, verbose=False, trials=1)\n",
        "\n",
        "# Get data\n",
        "x = np.array([[-1,0], [1,0], [0,-11], [0,1], [-1,-1], [-1,1], [1,1], [1,-1]])\n",
        "\n",
        "# Get the weights after training\n",
        "W = linear_layer[0].weight.data.numpy()\n",
        "W0 = linear_layer[0].bias.data.numpy()\n",
        "\n",
        "\n",
        "# Automated\n",
        "print('Automated calculation:')\n",
        "model.eval()\n",
        "torch_x = torch.from_numpy(x).float()\n",
        "output = model(torch_x)\n",
        "cpu_pred = output.cpu()\n",
        "result = cpu_pred.data.numpy()\n",
        "print(result.tolist())\n",
        "print(np.argmax(result, axis=1).tolist())\n",
        "\n",
        "# Manually\n",
        "print('Manual calculation:')\n",
        "z = np.array([np.dot(W, point.T) + W0 for point in x])\n",
        "print(z.tolist())\n",
        "print(np.argmax(z, axis=1).tolist())"
      ],
      "execution_count": 67,
      "outputs": [
        {
          "output_type": "stream",
          "text": [
            "Pytorch FC: dataset= 3class\n",
            "Loading X torch.Size([800, 2]) y torch.Size([800]) classes {0.0, 1.0, 2.0}\n",
            "Use split <torch.utils.data.dataloader.DataLoader object at 0x7feaf52d8160>\n",
            "Using validation split\n",
            "train_size 400 val_size 400\n",
            "Loading train X torch.Size([400, 2]) y torch.Size([400]) classes {0.0, 1.0, 2.0}\n",
            "Loading val X torch.Size([400, 2]) y torch.Size([400]) classes {0.0, 1.0, 2.0}\n",
            "# Trial 0\n",
            "\n",
            "Avg. validation accuracy:0.46875\n",
            "Automated calculation:\n",
            "[[0.2655330002307892, 0.3895283043384552, 0.344938725233078], [0.28583940863609314, 0.4857136011123657, 0.22844697535037994], [0.9892951846122742, 0.010704157873988152, 5.500781981027103e-07], [0.1376701146364212, 0.34191375970840454, 0.5204161405563354], [0.43807297945022583, 0.4085352122783661, 0.15339183807373047], [0.1230471208691597, 0.28394195437431335, 0.5930109024047852], [0.15064726769924164, 0.40267714858055115, 0.4466756582260132], [0.4356034994125366, 0.47055676579475403, 0.09383978694677353]]\n",
            "[1, 1, 0, 2, 0, 2, 2, 1]\n",
            "Manual calculation:\n",
            "[[-0.6464587599039078, -0.26326125860214233, -0.3848310485482216], [0.37587307393550873, 0.9060621857643127, 0.15174712985754013], [7.140641078352928, 2.614280194044113, -7.261801995337009], [-0.7967413812875748, 0.11295685172080994, 0.5330271348357201], [0.014989778399467468, -0.054817646741867065, -1.0344001427292824], [-1.307907298207283, -0.4717048704624176, 0.2647380456328392], [-0.2855754643678665, 0.6976185739040375, 0.8013162240386009], [1.037321612238884, 1.114505797624588, -0.49782196432352066]]\n",
            "[1, 1, 0, 2, 0, 2, 2, 1]\n"
          ],
          "name": "stdout"
        }
      ]
    }
  ]
}